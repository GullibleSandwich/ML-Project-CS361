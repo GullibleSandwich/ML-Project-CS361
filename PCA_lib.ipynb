{
 "cells": [
  {
   "cell_type": "markdown",
   "metadata": {},
   "source": [
    "# PCA using library implementation\n",
    "Here, we use Principal Component Analysis (or dimensionality reduction) for feature selection. "
   ]
  },
  {
   "cell_type": "code",
   "execution_count": 2,
   "metadata": {},
   "outputs": [],
   "source": [
    "import numpy as np\n",
    "import pandas as pd\n",
    "from sklearn.decomposition import PCA\n",
    "from sklearn.preprocessing import StandardScaler\n",
    "import matplotlib.pyplot as plt"
   ]
  },
  {
   "cell_type": "code",
   "execution_count": 3,
   "metadata": {},
   "outputs": [
    {
     "data": {
      "text/plain": [
       "Index(['Timestamp', 'Unnamed: 0', 'Station', 'Checks', 'AQI_bucket_calculated',\n",
       "       'AQI_bucket_calculated_shifted'],\n",
       "      dtype='object')"
      ]
     },
     "execution_count": 3,
     "metadata": {},
     "output_type": "execute_result"
    }
   ],
   "source": [
    "# Importing dataset     \n",
    "df = pd.read_csv( \"../ML-Project-CS361/cleaned_shifted_data.csv\" ) \n",
    "drop_cols = [0,1,2,12,14,16]\n",
    "drop_cols = df.columns[drop_cols]\n",
    "drop_cols"
   ]
  },
  {
   "cell_type": "code",
   "execution_count": 4,
   "metadata": {},
   "outputs": [],
   "source": [
    "# Drop the columns and make a new dataframe df1\n",
    "df.drop(columns=drop_cols, inplace=True)"
   ]
  },
  {
   "cell_type": "code",
   "execution_count": 5,
   "metadata": {},
   "outputs": [
    {
     "name": "stdout",
     "output_type": "stream",
     "text": [
      "(174762, 11)\n"
     ]
    }
   ],
   "source": [
    "print(df.shape)"
   ]
  },
  {
   "cell_type": "code",
   "execution_count": 6,
   "metadata": {},
   "outputs": [],
   "source": [
    "X = df.values #convertind pandas df to np array"
   ]
  },
  {
   "cell_type": "code",
   "execution_count": 7,
   "metadata": {},
   "outputs": [
    {
     "data": {
      "text/plain": [
       "array([[-0.2284613 , -0.27947897, -0.40159894, ..., -0.37032615,\n",
       "        -0.70256623,  1.49358304],\n",
       "       [-0.2284613 , -0.27947897, -0.38000926, ..., -0.38256664,\n",
       "        -0.69301701,  1.50309952],\n",
       "       [-0.23480768, -0.2801947 , -0.37377224, ..., -0.39087269,\n",
       "        -0.69301701,  1.51261601],\n",
       "       ...,\n",
       "       [ 0.18906354,  0.02470543, -0.16123382, ...,  1.86356376,\n",
       "         1.01629424,  0.76081353],\n",
       "       [ 0.22246553,  0.02470543, -0.16123382, ...,  0.88869596,\n",
       "         0.93035122,  0.77033001],\n",
       "       [ 0.17236255,  1.06251102, -0.16123382, ...,  0.53459599,\n",
       "         0.82530974,  0.77033001]])"
      ]
     },
     "execution_count": 7,
     "metadata": {},
     "output_type": "execute_result"
    }
   ],
   "source": [
    "# Step 1: Standardize the Data\n",
    "scaler = StandardScaler()\n",
    "X_std = scaler.fit_transform(X)\n",
    "X_std"
   ]
  },
  {
   "cell_type": "code",
   "execution_count": 13,
   "metadata": {},
   "outputs": [
    {
     "data": {
      "text/plain": [
       "array([[ 0.11883616, -0.68690043, -1.82520905, ..., -1.54910951,\n",
       "         0.46415058,  0.99216834],\n",
       "       [ 0.21938965, -0.74705203, -2.05725703, ..., -1.6321302 ,\n",
       "         0.68923659,  1.08386959],\n",
       "       [ 0.15414982, -0.71318553, -1.8909654 , ..., -1.584287  ,\n",
       "         0.57380765,  1.02555231],\n",
       "       ...,\n",
       "       [ 0.14305688, -0.99481074,  2.44098014, ..., -0.7938001 ,\n",
       "         0.79151966,  0.05019637],\n",
       "       [ 0.34358643, -1.12325336, -0.0502625 , ...,  0.07834068,\n",
       "        -0.48145495, -0.14575719],\n",
       "       [ 0.74821492, -1.23292794, -0.09906858, ...,  0.42046892,\n",
       "        -0.66857962, -0.50823707]])"
      ]
     },
     "execution_count": 13,
     "metadata": {},
     "output_type": "execute_result"
    }
   ],
   "source": [
    "# Step 2-5: PCA\n",
    "pca = PCA(n_components=8)\n",
    "X_pca = pca.fit_transform(X_std)\n",
    "X_pca"
   ]
  },
  {
   "cell_type": "code",
   "execution_count": 14,
   "metadata": {},
   "outputs": [
    {
     "name": "stdout",
     "output_type": "stream",
     "text": [
      "(174762, 8)\n"
     ]
    }
   ],
   "source": [
    "print(X_pca.shape)"
   ]
  },
  {
   "cell_type": "code",
   "execution_count": 15,
   "metadata": {},
   "outputs": [],
   "source": [
    "# Plot Explained Variance Ratio\n",
    "explained_var_ratio = pca.explained_variance_ratio_\n",
    "cumulative_var_ratio = np.cumsum(explained_var_ratio)"
   ]
  },
  {
   "cell_type": "code",
   "execution_count": 24,
   "metadata": {},
   "outputs": [
    {
     "name": "stdout",
     "output_type": "stream",
     "text": [
      "Explained variance: 0.9557\n"
     ]
    }
   ],
   "source": [
    "# check explained variance\n",
    "print(f\"Explained variance: {cumulative_var_ratio[7]:.4f}\")"
   ]
  },
  {
   "cell_type": "code",
   "execution_count": 16,
   "metadata": {},
   "outputs": [
    {
     "data": {
      "image/png": "[encoded data removed]",
      "text/plain": [
       "<Figure size 432x288 with 1 Axes>"
      ]
     },
     "metadata": {
      "needs_background": "light"
     },
     "output_type": "display_data"
    }
   ],
   "source": [
    "plt.plot(range(1, len(cumulative_var_ratio) + 1), cumulative_var_ratio, marker='o')\n",
    "plt.xlabel('Number of Principal Components')\n",
    "plt.ylabel('Cumulative Explained Variance Ratio')\n",
    "plt.title('Explained Variance Ratio vs. Number of Principal Components')\n",
    "plt.show()"
   ]
  }
 ],
 "metadata": {
  "kernelspec": {
   "display_name": "base",
   "language": "python",
   "name": "python3"
  },
  "language_info": {
   "codemirror_mode": {
    "name": "ipython",
    "version": 3
   },
   "file_extension": ".py",
   "mimetype": "text/x-python",
   "name": "python",
   "nbconvert_exporter": "python",
   "pygments_lexer": "ipython3",
   "version": "3.9.7"
  }
 },
 "nbformat": 4,
 "nbformat_minor": 2
}
