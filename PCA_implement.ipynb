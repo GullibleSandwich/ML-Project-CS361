{
 "cells": [
  {
   "cell_type": "markdown",
   "metadata": {},
   "source": [
    "# PCA manual implementation"
   ]
  },
  {
   "cell_type": "code",
   "execution_count": 1,
   "metadata": {},
   "outputs": [],
   "source": [
    "import numpy as np\n",
    "import pandas as pd\n",
    "from sklearn.preprocessing import StandardScaler"
   ]
  },
  {
   "cell_type": "code",
   "execution_count": 2,
   "metadata": {},
   "outputs": [],
   "source": [
    "class PCA:\n",
    "    \n",
    "    def __init__(self, num_components):\n",
    "        self.num_components = num_components\n",
    "        self.components     = None\n",
    "        self.mean           = None\n",
    "        self.variance_share = None\n",
    "    \n",
    "    \n",
    "    def fit(self, X):\n",
    "        \"\"\"\n",
    "        Find principal components\n",
    "        \"\"\"\n",
    "        \n",
    "        # data centering\n",
    "        self.mean = np.mean(X, axis = 0)\n",
    "        X        -= self.mean\n",
    "        \n",
    "        # calculate eigenvalues & vectors\n",
    "        cov_matrix      = np.cov(X.T)\n",
    "        values, vectors = np.linalg.eig(cov_matrix)\n",
    "        \n",
    "        # sort eigenvalues & vectors \n",
    "        sort_idx = np.argsort(values)[::-1]\n",
    "        values   = values[sort_idx]\n",
    "        vectors  = vectors[:, sort_idx]\n",
    "        \n",
    "        # store principal components & variance\n",
    "        self.components = vectors[:self.num_components]\n",
    "        self.variance_share = np.sum(values[:self.num_components]) / np.sum(values)\n",
    "    \n",
    "    \n",
    "    def transform(self, X):\n",
    "        \"\"\"\n",
    "        Transform data\n",
    "        \"\"\"\n",
    "        \n",
    "        # data centering\n",
    "        X -= self.mean\n",
    "        \n",
    "        # decomposition\n",
    "        return np.dot(X, self.components.T)"
   ]
  },
  {
   "cell_type": "code",
   "execution_count": 3,
   "metadata": {},
   "outputs": [
    {
     "data": {
      "text/plain": [
       "Index(['Timestamp', 'Unnamed: 0', 'Station', 'Checks', 'AQI_bucket_calculated',\n",
       "       'AQI_bucket_calculated_shifted'],\n",
       "      dtype='object')"
      ]
     },
     "execution_count": 3,
     "metadata": {},
     "output_type": "execute_result"
    }
   ],
   "source": [
    "# Importing dataset     \n",
    "df = pd.read_csv( \"../ML-Project-CS361/cleaned_shifted_data.csv\" ) \n",
    "drop_cols = [0,1,2,12,14,16]\n",
    "drop_cols = df.columns[drop_cols]\n",
    "drop_cols"
   ]
  },
  {
   "cell_type": "code",
   "execution_count": 4,
   "metadata": {},
   "outputs": [],
   "source": [
    "# Drop the columns and make a new dataframe df1\n",
    "df.drop(columns=drop_cols, inplace=True)"
   ]
  },
  {
   "cell_type": "code",
   "execution_count": 5,
   "metadata": {},
   "outputs": [
    {
     "name": "stdout",
     "output_type": "stream",
     "text": [
      "(174762, 11)\n"
     ]
    }
   ],
   "source": [
    "print(df.shape)"
   ]
  },
  {
   "cell_type": "code",
   "execution_count": 6,
   "metadata": {},
   "outputs": [],
   "source": [
    "X_old = df.values #converting pandas df to np array"
   ]
  },
  {
   "cell_type": "code",
   "execution_count": 7,
   "metadata": {},
   "outputs": [
    {
     "data": {
      "text/plain": [
       "array([[-0.2284613 , -0.27947897, -0.40159894, ..., -0.37032615,\n",
       "        -0.70256623,  1.49358304],\n",
       "       [-0.2284613 , -0.27947897, -0.38000926, ..., -0.38256664,\n",
       "        -0.69301701,  1.50309952],\n",
       "       [-0.23480768, -0.2801947 , -0.37377224, ..., -0.39087269,\n",
       "        -0.69301701,  1.51261601],\n",
       "       ...,\n",
       "       [ 0.18906354,  0.02470543, -0.16123382, ...,  1.86356376,\n",
       "         1.01629424,  0.76081353],\n",
       "       [ 0.22246553,  0.02470543, -0.16123382, ...,  0.88869596,\n",
       "         0.93035122,  0.77033001],\n",
       "       [ 0.17236255,  1.06251102, -0.16123382, ...,  0.53459599,\n",
       "         0.82530974,  0.77033001]])"
      ]
     },
     "execution_count": 7,
     "metadata": {},
     "output_type": "execute_result"
    }
   ],
   "source": [
    "# Step 1: Standardize the Data\n",
    "scaler = StandardScaler()\n",
    "X_old = scaler.fit_transform(X_old)\n",
    "X_old"
   ]
  },
  {
   "cell_type": "code",
   "execution_count": 8,
   "metadata": {},
   "outputs": [
    {
     "name": "stdout",
     "output_type": "stream",
     "text": [
      "Explained variance: 0.9557\n"
     ]
    }
   ],
   "source": [
    "# initialize PCA object\n",
    "pca = PCA(num_components = 8)  # going from 11 components to 8\n",
    "\n",
    "# fit PCA on old data\n",
    "pca.fit(X_old)\n",
    "\n",
    "# check explained variance\n",
    "print(f\"Explained variance: {pca.variance_share:.4f}\")"
   ]
  },
  {
   "cell_type": "code",
   "execution_count": 9,
   "metadata": {},
   "outputs": [
    {
     "name": "stdout",
     "output_type": "stream",
     "text": [
      "(174762, 8)\n"
     ]
    }
   ],
   "source": [
    "# transform datasets\n",
    "X_old = pca.transform(X_old)\n",
    "print(X_old.shape)"
   ]
  },
  {
   "cell_type": "code",
   "execution_count": 10,
   "metadata": {},
   "outputs": [
    {
     "data": {
      "text/plain": [
       "array([[-0.00484615,  1.1270521 ,  0.87822209, ..., -0.37474863,\n",
       "        -0.26732537,  0.67720497],\n",
       "       [ 0.09766021,  1.24426063,  0.88052331, ..., -0.45278461,\n",
       "        -0.42716843,  0.84328912],\n",
       "       [ 0.02080232,  1.14134262,  0.88572797, ..., -0.40153736,\n",
       "        -0.36330119,  0.73122791],\n",
       "       ...,\n",
       "       [ 1.18277395,  0.18107491,  0.06534939, ..., -0.66376994,\n",
       "        -0.25179809, -1.05262943],\n",
       "       [ 0.93074087, -0.34013869,  0.92170258, ...,  0.83614103,\n",
       "         0.69411113, -0.75672463],\n",
       "       [ 0.50473442, -0.70233713,  1.40261295, ...,  0.66622291,\n",
       "         0.8220411 , -0.5789685 ]])"
      ]
     },
     "execution_count": 10,
     "metadata": {},
     "output_type": "execute_result"
    }
   ],
   "source": [
    "X_old"
   ]
  }
 ],
 "metadata": {
  "kernelspec": {
   "display_name": "base",
   "language": "python",
   "name": "python3"
  },
  "language_info": {
   "codemirror_mode": {
    "name": "ipython",
    "version": 3
   },
   "file_extension": ".py",
   "mimetype": "text/x-python",
   "name": "python",
   "nbconvert_exporter": "python",
   "pygments_lexer": "ipython3",
   "version": "3.9.7"
  }
 },
 "nbformat": 4,
 "nbformat_minor": 2
}
