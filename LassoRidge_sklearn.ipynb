{
 "cells": [
  {
   "cell_type": "markdown",
   "metadata": {},
   "source": [
    "# Lasso and Ridge Regression Library Implementation\n",
    "In this Notebook, we implement Lasso (L1 Regularization) and Ridge regression (L2 regularization) using the pre-defined models from the Scikit-learn library."
   ]
  },
  {
   "cell_type": "code",
   "execution_count": 59,
   "metadata": {},
   "outputs": [],
   "source": [
    "# Importing libraries \n",
    "import numpy as np\n",
    "import pandas as pd\n",
    "import error_define\n",
    "\n",
    "from sklearn.metrics import r2_score, mean_squared_error\n",
    "from sklearn.model_selection import train_test_split\n",
    "from sklearn.preprocessing import StandardScaler"
   ]
  },
  {
   "cell_type": "markdown",
   "metadata": {},
   "source": [
    "## Dataset Operations 1"
   ]
  },
  {
   "cell_type": "code",
   "execution_count": 60,
   "metadata": {},
   "outputs": [
    {
     "data": {
      "text/plain": [
       "Index(['Timestamp', 'Unnamed: 0', 'Station', 'Checks', 'AQI_bucket_calculated',\n",
       "       'AQI_bucket_calculated_shifted'],\n",
       "      dtype='object')"
      ]
     },
     "execution_count": 60,
     "metadata": {},
     "output_type": "execute_result"
    }
   ],
   "source": [
    "# Importing dataset     \n",
    "df = pd.read_csv( \"../ML-Project-CS361/cleaned_shifted_data.csv\" ) \n",
    "drop_cols = [0,1,2,12,14,16]\n",
    "drop_cols = df.columns[drop_cols]\n",
    "drop_cols # Dropping unecessary columns"
   ]
  },
  {
   "cell_type": "code",
   "execution_count": 61,
   "metadata": {},
   "outputs": [],
   "source": [
    "# Drop the columns and make the changes in-place\n",
    "df.drop(columns=drop_cols, inplace=True)"
   ]
  },
  {
   "cell_type": "code",
   "execution_count": 62,
   "metadata": {},
   "outputs": [
    {
     "name": "stdout",
     "output_type": "stream",
     "text": [
      "(174762, 11)\n"
     ]
    }
   ],
   "source": [
    "print(df.shape)  # The dataset has a size of 1,74,762 records, 10 features, 1 target variable"
   ]
  },
  {
   "cell_type": "code",
   "execution_count": 63,
   "metadata": {},
   "outputs": [
    {
     "data": {
      "text/html": [
       "<div>\n",
       "<style scoped>\n",
       "    .dataframe tbody tr th:only-of-type {\n",
       "        vertical-align: middle;\n",
       "    }\n",
       "\n",
       "    .dataframe tbody tr th {\n",
       "        vertical-align: top;\n",
       "    }\n",
       "\n",
       "    .dataframe thead th {\n",
       "        text-align: right;\n",
       "    }\n",
       "</style>\n",
       "<table border=\"1\" class=\"dataframe\">\n",
       "  <thead>\n",
       "    <tr style=\"text-align: right;\">\n",
       "      <th></th>\n",
       "      <th>PM2.5 (µg/m³)</th>\n",
       "      <th>PM10 (µg/m³)</th>\n",
       "      <th>NO (µg/m³)</th>\n",
       "      <th>NO2 (µg/m³)</th>\n",
       "      <th>NOx (ppb)</th>\n",
       "      <th>NH3 (µg/m³)</th>\n",
       "      <th>SO2 (µg/m³)</th>\n",
       "      <th>CO (mg/m³)</th>\n",
       "      <th>Ozone (µg/m³)</th>\n",
       "      <th>AQI_calculated</th>\n",
       "      <th>AQI_calculated_shifted</th>\n",
       "    </tr>\n",
       "  </thead>\n",
       "  <tbody>\n",
       "    <tr>\n",
       "      <th>0</th>\n",
       "      <td>46.00</td>\n",
       "      <td>80.00</td>\n",
       "      <td>1.29</td>\n",
       "      <td>9.16</td>\n",
       "      <td>12.02</td>\n",
       "      <td>27.19</td>\n",
       "      <td>13.56</td>\n",
       "      <td>0.40</td>\n",
       "      <td>15.80</td>\n",
       "      <td>67.0</td>\n",
       "      <td>296.0</td>\n",
       "    </tr>\n",
       "    <tr>\n",
       "      <th>1</th>\n",
       "      <td>46.00</td>\n",
       "      <td>80.00</td>\n",
       "      <td>1.74</td>\n",
       "      <td>8.93</td>\n",
       "      <td>12.48</td>\n",
       "      <td>30.29</td>\n",
       "      <td>13.71</td>\n",
       "      <td>0.41</td>\n",
       "      <td>15.52</td>\n",
       "      <td>68.0</td>\n",
       "      <td>297.0</td>\n",
       "    </tr>\n",
       "    <tr>\n",
       "      <th>2</th>\n",
       "      <td>45.62</td>\n",
       "      <td>79.92</td>\n",
       "      <td>1.87</td>\n",
       "      <td>8.56</td>\n",
       "      <td>12.17</td>\n",
       "      <td>28.20</td>\n",
       "      <td>13.88</td>\n",
       "      <td>0.41</td>\n",
       "      <td>15.33</td>\n",
       "      <td>68.0</td>\n",
       "      <td>298.0</td>\n",
       "    </tr>\n",
       "    <tr>\n",
       "      <th>3</th>\n",
       "      <td>41.00</td>\n",
       "      <td>72.92</td>\n",
       "      <td>1.83</td>\n",
       "      <td>8.72</td>\n",
       "      <td>12.37</td>\n",
       "      <td>26.69</td>\n",
       "      <td>13.77</td>\n",
       "      <td>0.40</td>\n",
       "      <td>15.30</td>\n",
       "      <td>68.0</td>\n",
       "      <td>298.0</td>\n",
       "    </tr>\n",
       "    <tr>\n",
       "      <th>4</th>\n",
       "      <td>41.00</td>\n",
       "      <td>79.00</td>\n",
       "      <td>1.69</td>\n",
       "      <td>7.91</td>\n",
       "      <td>11.30</td>\n",
       "      <td>26.83</td>\n",
       "      <td>13.87</td>\n",
       "      <td>0.41</td>\n",
       "      <td>15.49</td>\n",
       "      <td>68.0</td>\n",
       "      <td>299.0</td>\n",
       "    </tr>\n",
       "  </tbody>\n",
       "</table>\n",
       "</div>"
      ],
      "text/plain": [
       "   PM2.5 (µg/m³)  PM10 (µg/m³)  NO (µg/m³)  NO2 (µg/m³)  NOx (ppb)  \\\n",
       "0          46.00         80.00        1.29         9.16      12.02   \n",
       "1          46.00         80.00        1.74         8.93      12.48   \n",
       "2          45.62         79.92        1.87         8.56      12.17   \n",
       "3          41.00         72.92        1.83         8.72      12.37   \n",
       "4          41.00         79.00        1.69         7.91      11.30   \n",
       "\n",
       "   NH3 (µg/m³)  SO2 (µg/m³)  CO (mg/m³)  Ozone (µg/m³)  AQI_calculated  \\\n",
       "0        27.19        13.56        0.40          15.80            67.0   \n",
       "1        30.29        13.71        0.41          15.52            68.0   \n",
       "2        28.20        13.88        0.41          15.33            68.0   \n",
       "3        26.69        13.77        0.40          15.30            68.0   \n",
       "4        26.83        13.87        0.41          15.49            68.0   \n",
       "\n",
       "   AQI_calculated_shifted  \n",
       "0                   296.0  \n",
       "1                   297.0  \n",
       "2                   298.0  \n",
       "3                   298.0  \n",
       "4                   299.0  "
      ]
     },
     "execution_count": 63,
     "metadata": {},
     "output_type": "execute_result"
    }
   ],
   "source": [
    "df.head() "
   ]
  },
  {
   "cell_type": "code",
   "execution_count": 64,
   "metadata": {},
   "outputs": [
    {
     "name": "stdout",
     "output_type": "stream",
     "text": [
      "(174762, 11)\n"
     ]
    }
   ],
   "source": [
    "# Randomly sample 32000 rows\n",
    "df_subset = df\n",
    "print(df_subset.shape)"
   ]
  },
  {
   "cell_type": "code",
   "execution_count": 65,
   "metadata": {},
   "outputs": [
    {
     "data": {
      "text/html": [
       "<div>\n",
       "<style scoped>\n",
       "    .dataframe tbody tr th:only-of-type {\n",
       "        vertical-align: middle;\n",
       "    }\n",
       "\n",
       "    .dataframe tbody tr th {\n",
       "        vertical-align: top;\n",
       "    }\n",
       "\n",
       "    .dataframe thead th {\n",
       "        text-align: right;\n",
       "    }\n",
       "</style>\n",
       "<table border=\"1\" class=\"dataframe\">\n",
       "  <thead>\n",
       "    <tr style=\"text-align: right;\">\n",
       "      <th></th>\n",
       "      <th>PM2.5 (µg/m³)</th>\n",
       "      <th>PM10 (µg/m³)</th>\n",
       "      <th>NO (µg/m³)</th>\n",
       "      <th>NO2 (µg/m³)</th>\n",
       "      <th>NOx (ppb)</th>\n",
       "      <th>NH3 (µg/m³)</th>\n",
       "      <th>SO2 (µg/m³)</th>\n",
       "      <th>CO (mg/m³)</th>\n",
       "      <th>Ozone (µg/m³)</th>\n",
       "      <th>AQI_calculated</th>\n",
       "      <th>AQI_calculated_shifted</th>\n",
       "    </tr>\n",
       "  </thead>\n",
       "  <tbody>\n",
       "    <tr>\n",
       "      <th>count</th>\n",
       "      <td>174762.000000</td>\n",
       "      <td>174762.000000</td>\n",
       "      <td>174762.000000</td>\n",
       "      <td>174762.000000</td>\n",
       "      <td>174762.000000</td>\n",
       "      <td>174762.000000</td>\n",
       "      <td>174762.000000</td>\n",
       "      <td>174762.000000</td>\n",
       "      <td>174762.000000</td>\n",
       "      <td>174762.000000</td>\n",
       "      <td>174762.000000</td>\n",
       "    </tr>\n",
       "    <tr>\n",
       "      <th>mean</th>\n",
       "      <td>59.679503</td>\n",
       "      <td>111.238568</td>\n",
       "      <td>9.660644</td>\n",
       "      <td>8.324557</td>\n",
       "      <td>17.762988</td>\n",
       "      <td>9.984327</td>\n",
       "      <td>18.461032</td>\n",
       "      <td>0.689923</td>\n",
       "      <td>24.271172</td>\n",
       "      <td>140.573117</td>\n",
       "      <td>139.053112</td>\n",
       "    </tr>\n",
       "    <tr>\n",
       "      <th>std</th>\n",
       "      <td>59.876848</td>\n",
       "      <td>111.774626</td>\n",
       "      <td>20.843351</td>\n",
       "      <td>10.595687</td>\n",
       "      <td>33.777433</td>\n",
       "      <td>7.575767</td>\n",
       "      <td>13.741348</td>\n",
       "      <td>0.625532</td>\n",
       "      <td>22.874962</td>\n",
       "      <td>104.720841</td>\n",
       "      <td>105.081092</td>\n",
       "    </tr>\n",
       "    <tr>\n",
       "      <th>min</th>\n",
       "      <td>0.100000</td>\n",
       "      <td>1.590000</td>\n",
       "      <td>0.010000</td>\n",
       "      <td>0.020000</td>\n",
       "      <td>0.000000</td>\n",
       "      <td>0.010000</td>\n",
       "      <td>0.100000</td>\n",
       "      <td>0.000000</td>\n",
       "      <td>0.010000</td>\n",
       "      <td>14.000000</td>\n",
       "      <td>11.000000</td>\n",
       "    </tr>\n",
       "    <tr>\n",
       "      <th>25%</th>\n",
       "      <td>20.000000</td>\n",
       "      <td>37.670000</td>\n",
       "      <td>1.210000</td>\n",
       "      <td>2.520000</td>\n",
       "      <td>4.590000</td>\n",
       "      <td>4.000000</td>\n",
       "      <td>10.080000</td>\n",
       "      <td>0.310000</td>\n",
       "      <td>12.670000</td>\n",
       "      <td>56.000000</td>\n",
       "      <td>56.000000</td>\n",
       "    </tr>\n",
       "    <tr>\n",
       "      <th>50%</th>\n",
       "      <td>39.000000</td>\n",
       "      <td>73.000000</td>\n",
       "      <td>3.360000</td>\n",
       "      <td>4.170000</td>\n",
       "      <td>5.450000</td>\n",
       "      <td>7.200000</td>\n",
       "      <td>14.460000</td>\n",
       "      <td>0.490000</td>\n",
       "      <td>18.080000</td>\n",
       "      <td>101.000000</td>\n",
       "      <td>100.000000</td>\n",
       "    </tr>\n",
       "    <tr>\n",
       "      <th>75%</th>\n",
       "      <td>81.000000</td>\n",
       "      <td>148.000000</td>\n",
       "      <td>5.597500</td>\n",
       "      <td>10.080000</td>\n",
       "      <td>13.280000</td>\n",
       "      <td>15.420000</td>\n",
       "      <td>22.770000</td>\n",
       "      <td>0.840000</td>\n",
       "      <td>26.710000</td>\n",
       "      <td>214.000000</td>\n",
       "      <td>204.000000</td>\n",
       "    </tr>\n",
       "    <tr>\n",
       "      <th>max</th>\n",
       "      <td>923.080000</td>\n",
       "      <td>1000.000000</td>\n",
       "      <td>472.550000</td>\n",
       "      <td>122.000000</td>\n",
       "      <td>488.620000</td>\n",
       "      <td>113.300000</td>\n",
       "      <td>195.010000</td>\n",
       "      <td>9.710000</td>\n",
       "      <td>193.570000</td>\n",
       "      <td>1109.000000</td>\n",
       "      <td>1109.000000</td>\n",
       "    </tr>\n",
       "  </tbody>\n",
       "</table>\n",
       "</div>"
      ],
      "text/plain": [
       "       PM2.5 (µg/m³)   PM10 (µg/m³)     NO (µg/m³)    NO2 (µg/m³)  \\\n",
       "count  174762.000000  174762.000000  174762.000000  174762.000000   \n",
       "mean       59.679503     111.238568       9.660644       8.324557   \n",
       "std        59.876848     111.774626      20.843351      10.595687   \n",
       "min         0.100000       1.590000       0.010000       0.020000   \n",
       "25%        20.000000      37.670000       1.210000       2.520000   \n",
       "50%        39.000000      73.000000       3.360000       4.170000   \n",
       "75%        81.000000     148.000000       5.597500      10.080000   \n",
       "max       923.080000    1000.000000     472.550000     122.000000   \n",
       "\n",
       "           NOx (ppb)    NH3 (µg/m³)    SO2 (µg/m³)     CO (mg/m³)  \\\n",
       "count  174762.000000  174762.000000  174762.000000  174762.000000   \n",
       "mean       17.762988       9.984327      18.461032       0.689923   \n",
       "std        33.777433       7.575767      13.741348       0.625532   \n",
       "min         0.000000       0.010000       0.100000       0.000000   \n",
       "25%         4.590000       4.000000      10.080000       0.310000   \n",
       "50%         5.450000       7.200000      14.460000       0.490000   \n",
       "75%        13.280000      15.420000      22.770000       0.840000   \n",
       "max       488.620000     113.300000     195.010000       9.710000   \n",
       "\n",
       "       Ozone (µg/m³)  AQI_calculated  AQI_calculated_shifted  \n",
       "count  174762.000000   174762.000000           174762.000000  \n",
       "mean       24.271172      140.573117              139.053112  \n",
       "std        22.874962      104.720841              105.081092  \n",
       "min         0.010000       14.000000               11.000000  \n",
       "25%        12.670000       56.000000               56.000000  \n",
       "50%        18.080000      101.000000              100.000000  \n",
       "75%        26.710000      214.000000              204.000000  \n",
       "max       193.570000     1109.000000             1109.000000  "
      ]
     },
     "execution_count": 65,
     "metadata": {},
     "output_type": "execute_result"
    }
   ],
   "source": [
    "df_subset.describe()"
   ]
  },
  {
   "cell_type": "code",
   "execution_count": 66,
   "metadata": {},
   "outputs": [
    {
     "name": "stdout",
     "output_type": "stream",
     "text": [
      "(174762, 10)\n",
      "(174762,)\n"
     ]
    }
   ],
   "source": [
    "# Separating the features and labels/target variables\n",
    "X = df_subset.drop('AQI_calculated_shifted',axis = 1)  # feature set\n",
    "Y = df_subset['AQI_calculated_shifted'] # target variable\n",
    "print(X.shape)\n",
    "print(Y.shape)"
   ]
  },
  {
   "cell_type": "code",
   "execution_count": 67,
   "metadata": {},
   "outputs": [
    {
     "data": {
      "text/plain": [
       "array([[296.],\n",
       "       [297.],\n",
       "       [298.],\n",
       "       ...,\n",
       "       [219.],\n",
       "       [220.],\n",
       "       [220.]])"
      ]
     },
     "execution_count": 67,
     "metadata": {},
     "output_type": "execute_result"
    }
   ],
   "source": [
    "Y = Y.values.reshape(-1, 1) # convert to a numpy array\n",
    "Y "
   ]
  },
  {
   "cell_type": "code",
   "execution_count": 68,
   "metadata": {},
   "outputs": [
    {
     "name": "stdout",
     "output_type": "stream",
     "text": [
      "(116508, 10)\n",
      "(58254, 10)\n",
      "(116508, 1)\n",
      "(58254, 1)\n"
     ]
    }
   ],
   "source": [
    "# Splitting dataset into train and test set \n",
    "X_train, X_test, Y_train, Y_test = train_test_split( X, Y, test_size = 1 / 3, random_state = 0 )\n",
    "print(X_train.shape)\n",
    "print(X_test.shape)\n",
    "print(Y_train.shape)\n",
    "print(Y_test.shape)"
   ]
  },
  {
   "cell_type": "code",
   "execution_count": 69,
   "metadata": {},
   "outputs": [
    {
     "data": {
      "text/plain": [
       "array([[ 3.67831173,  2.2237575 , -0.20599341, ...,  3.40249554,\n",
       "         0.08160396,  1.92882892],\n",
       "       [-0.29548835, -0.3588719 , -0.26667847, ..., -0.25689331,\n",
       "        -0.23740736, -0.68081168],\n",
       "       [ 1.56565852,  0.86541954, -0.35201684, ...,  0.5616542 ,\n",
       "        -0.98845864,  1.75739267],\n",
       "       ...,\n",
       "       [-0.79850102, -0.71758036, -0.40464216, ..., -0.51369252,\n",
       "        -0.34563555, -0.89034486],\n",
       "       [-0.84880229, -0.76101143, -0.15526449, ...,  2.64814784,\n",
       "        -0.94438184, -0.24269683],\n",
       "       [-0.69370672, -0.52419593, -0.20220059, ..., -0.2247934 ,\n",
       "        -0.31901491, -0.97606298]])"
      ]
     },
     "execution_count": 69,
     "metadata": {},
     "output_type": "execute_result"
    }
   ],
   "source": [
    "# Standardize the features using StandardScaler\n",
    "scaler = StandardScaler()\n",
    "X_train = scaler.fit_transform(X_train)\n",
    "X_test = scaler.transform(X_test)\n",
    "X_train"
   ]
  },
  {
   "cell_type": "markdown",
   "metadata": {},
   "source": [
    "### L1 Regularization (Lasso)"
   ]
  },
  {
   "cell_type": "code",
   "execution_count": 70,
   "metadata": {},
   "outputs": [
    {
     "name": "stdout",
     "output_type": "stream",
     "text": [
      "R2 0.4029755342896376\n",
      "MSE 6677.476696000735\n"
     ]
    }
   ],
   "source": [
    "from sklearn.linear_model import Lasso\n",
    "from sklearn.metrics import r2_score\n",
    "parameters = {'alpha': 0.5,\n",
    "              'tol': 0.1\n",
    "              }\n",
    "model = Lasso(**parameters)\n",
    "\n",
    "model.fit(X_train, Y_train)\n",
    "Y_pred = model.predict(X_test)\n",
    "score = r2_score(Y_test, Y_pred)\n",
    "print(\"R2 {}\".format(score))\n",
    "mse = mean_squared_error(Y_test, Y_pred)\n",
    "print(\"MSE\", mse)"
   ]
  },
  {
   "cell_type": "code",
   "execution_count": 71,
   "metadata": {},
   "outputs": [
    {
     "data": {
      "text/plain": [
       "array([4243.16112426])"
      ]
     },
     "execution_count": 71,
     "metadata": {},
     "output_type": "execute_result"
    }
   ],
   "source": [
    "# Calculate the custom error metric\n",
    "from error_define import *\n",
    "Y_pred1 = Y_pred.reshape(-1, 1)\n",
    "Y_test1 = Y_test.reshape(-1, 1)\n",
    "downside_square_error(Y_pred1,Y_test1)"
   ]
  },
  {
   "cell_type": "markdown",
   "metadata": {},
   "source": [
    "### Ridge"
   ]
  },
  {
   "cell_type": "code",
   "execution_count": 72,
   "metadata": {},
   "outputs": [
    {
     "name": "stdout",
     "output_type": "stream",
     "text": [
      "R2 0.4045024898684959\n",
      "MSE 6660.398316672472\n"
     ]
    }
   ],
   "source": [
    "from sklearn.linear_model import Ridge\n",
    "from sklearn.metrics import r2_score\n",
    "parameters = {'alpha': 0.5\n",
    "              }\n",
    "model = Ridge(**parameters)\n",
    "\n",
    "model.fit(X_train, Y_train)\n",
    "Y_pred = model.predict(X_test)\n",
    "score = r2_score(Y_test, Y_pred)\n",
    "print(\"R2 {}\".format(score))\n",
    "mse = mean_squared_error(Y_test, Y_pred)\n",
    "print(\"MSE\", mse)"
   ]
  },
  {
   "cell_type": "code",
   "execution_count": 73,
   "metadata": {},
   "outputs": [
    {
     "data": {
      "text/plain": [
       "array([4240.2167977])"
      ]
     },
     "execution_count": 73,
     "metadata": {},
     "output_type": "execute_result"
    }
   ],
   "source": [
    "# Calculate the custom error metric\n",
    "from error_define import *\n",
    "Y_pred1 = Y_pred.reshape(-1, 1)\n",
    "Y_test1 = Y_test.reshape(-1, 1)\n",
    "downside_square_error(Y_pred1,Y_test1)"
   ]
  },
  {
   "cell_type": "markdown",
   "metadata": {},
   "source": [
    "## Dataset Operations 2"
   ]
  },
  {
   "cell_type": "code",
   "execution_count": 74,
   "metadata": {},
   "outputs": [],
   "source": [
    "from sklearn.preprocessing import OneHotEncoder\n",
    "df = pd.read_csv(\"cleaned_shifted_data.csv\")\n",
    "    \n",
    "oe = OneHotEncoder(sparse=False)\n",
    "encoded = oe.fit_transform(pd.DataFrame(df['Station']))"
   ]
  },
  {
   "cell_type": "code",
   "execution_count": 75,
   "metadata": {},
   "outputs": [
    {
     "data": {
      "text/plain": [
       "array(['x0_IITG ', 'x0_LGBI Airport ', 'x0_Pan Bazaar ',\n",
       "       'x0_Railway Colony '], dtype=object)"
      ]
     },
     "execution_count": 75,
     "metadata": {},
     "output_type": "execute_result"
    }
   ],
   "source": [
    "oe.get_feature_names()"
   ]
  },
  {
   "cell_type": "code",
   "execution_count": 76,
   "metadata": {},
   "outputs": [],
   "source": [
    "\n",
    "one_hot_df = pd.DataFrame(encoded, columns=oe.get_feature_names())\n",
    "df = pd.concat([df, one_hot_df], axis=1)\n",
    "\n",
    "df['Timestamp'] = pd.to_datetime(df['Timestamp'])\n",
    "df['year'] = df['Timestamp'].dt.year\n",
    "df['month'] = df['Timestamp'].dt.month\n",
    "df['dayofweek'] = df['Timestamp'].dt.day_of_week\n",
    "\n",
    "drop_cols = [0,1,2,12,14,16]\n",
    "drop_cols = df.columns[drop_cols]\n",
    "df.drop(drop_cols,axis=1,inplace=True)\n",
    "\n",
    "X = df.drop('AQI_calculated_shifted',axis = 1)\n",
    "y = df['AQI_calculated_shifted']"
   ]
  },
  {
   "cell_type": "code",
   "execution_count": 77,
   "metadata": {},
   "outputs": [
    {
     "name": "stdout",
     "output_type": "stream",
     "text": [
      "(174762, 17) (174762,)\n"
     ]
    }
   ],
   "source": [
    "print(X.shape, y.shape)"
   ]
  },
  {
   "cell_type": "code",
   "execution_count": 78,
   "metadata": {},
   "outputs": [
    {
     "name": "stdout",
     "output_type": "stream",
     "text": [
      "(116508, 17)\n",
      "(58254, 17)\n",
      "(116508,)\n",
      "(58254,)\n"
     ]
    }
   ],
   "source": [
    "# Splitting dataset into train and test set \n",
    "X_train, X_test, Y_train, Y_test = train_test_split( X, y, test_size = 1 / 3, random_state = 0 )\n",
    "print(X_train.shape)\n",
    "print(X_test.shape)\n",
    "print(Y_train.shape)\n",
    "print(Y_test.shape)"
   ]
  },
  {
   "cell_type": "code",
   "execution_count": 79,
   "metadata": {},
   "outputs": [
    {
     "data": {
      "text/plain": [
       "array([[ 3.67831173,  2.2237575 , -0.20599341, ...,  1.19263893,\n",
       "        -1.54346737, -0.01566533],\n",
       "       [-0.29548835, -0.3588719 , -0.26667847, ..., -0.95436545,\n",
       "        -0.96118867, -0.01566533],\n",
       "       [ 1.56565852,  0.86541954, -0.35201684, ..., -0.23869732,\n",
       "        -1.25232802,  0.49471947],\n",
       "       ...,\n",
       "       [-0.79850102, -0.71758036, -0.40464216, ...,  0.47697081,\n",
       "         0.49450809,  0.49471947],\n",
       "       [-0.84880229, -0.76101143, -0.15526449, ...,  1.19263893,\n",
       "         0.78564744,  1.00510426],\n",
       "       [-0.69370672, -0.52419593, -0.20220059, ..., -0.95436545,\n",
       "         0.49450809, -0.01566533]])"
      ]
     },
     "execution_count": 79,
     "metadata": {},
     "output_type": "execute_result"
    }
   ],
   "source": [
    "# Standardize the features using StandardScaler\n",
    "scaler = StandardScaler()\n",
    "X_train = scaler.fit_transform(X_train)\n",
    "X_test = scaler.transform(X_test)\n",
    "X_train"
   ]
  },
  {
   "cell_type": "markdown",
   "metadata": {},
   "source": [
    "### Lasso"
   ]
  },
  {
   "cell_type": "code",
   "execution_count": 80,
   "metadata": {},
   "outputs": [
    {
     "name": "stdout",
     "output_type": "stream",
     "text": [
      "R2 0.4139777006204265\n",
      "MSE 6554.421924381027\n"
     ]
    }
   ],
   "source": [
    "from sklearn.linear_model import Lasso\n",
    "from sklearn.metrics import r2_score\n",
    "parameters = {'alpha': 0.5,\n",
    "              'tol': 0.1\n",
    "              }\n",
    "model = Lasso(**parameters)\n",
    "\n",
    "model.fit(X_train, Y_train)\n",
    "Y_pred = model.predict(X_test)\n",
    "score = r2_score(Y_test, Y_pred)\n",
    "print(\"R2 {}\".format(score))\n",
    "mse = mean_squared_error(Y_test, Y_pred)\n",
    "print(\"MSE\", mse)"
   ]
  },
  {
   "cell_type": "code",
   "execution_count": 81,
   "metadata": {},
   "outputs": [
    {
     "data": {
      "text/plain": [
       "array([4181.79616743])"
      ]
     },
     "execution_count": 81,
     "metadata": {},
     "output_type": "execute_result"
    }
   ],
   "source": [
    "# Calculate the custom error metric\n",
    "from error_define import *\n",
    "Y_pred1 = Y_pred.reshape(-1, 1)\n",
    "Y_test1 = Y_test.values.reshape(-1, 1)\n",
    "downside_square_error(Y_pred1,Y_test1)"
   ]
  },
  {
   "cell_type": "markdown",
   "metadata": {},
   "source": [
    "### Ridge"
   ]
  },
  {
   "cell_type": "code",
   "execution_count": 82,
   "metadata": {},
   "outputs": [
    {
     "name": "stdout",
     "output_type": "stream",
     "text": [
      "R2 0.4162744542784833\n",
      "MSE 6528.733665508954\n"
     ]
    }
   ],
   "source": [
    "from sklearn.linear_model import Ridge\n",
    "from sklearn.metrics import r2_score\n",
    "parameters = {'alpha': 0.5\n",
    "              }\n",
    "model = Ridge(**parameters)\n",
    "\n",
    "model.fit(X_train, Y_train)\n",
    "Y_pred = model.predict(X_test)\n",
    "score = r2_score(Y_test, Y_pred)\n",
    "print(\"R2 {}\".format(score))\n",
    "mse = mean_squared_error(Y_test, Y_pred)\n",
    "print(\"MSE\", mse)"
   ]
  },
  {
   "cell_type": "code",
   "execution_count": 83,
   "metadata": {},
   "outputs": [
    {
     "data": {
      "text/plain": [
       "array([4168.87589923])"
      ]
     },
     "execution_count": 83,
     "metadata": {},
     "output_type": "execute_result"
    }
   ],
   "source": [
    "# Calculate the custom error metric\n",
    "from error_define import *\n",
    "Y_pred1 = Y_pred.reshape(-1, 1)\n",
    "Y_test1 = Y_test.values.reshape(-1, 1)\n",
    "downside_square_error(Y_pred1,Y_test1)"
   ]
  }
 ],
 "metadata": {
  "kernelspec": {
   "display_name": "base",
   "language": "python",
   "name": "python3"
  },
  "language_info": {
   "codemirror_mode": {
    "name": "ipython",
    "version": 3
   },
   "file_extension": ".py",
   "mimetype": "text/x-python",
   "name": "python",
   "nbconvert_exporter": "python",
   "pygments_lexer": "ipython3",
   "version": "3.9.7"
  }
 },
 "nbformat": 4,
 "nbformat_minor": 2
}
