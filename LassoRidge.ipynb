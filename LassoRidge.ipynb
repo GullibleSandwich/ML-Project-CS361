{
 "cells": [
  {
   "cell_type": "markdown",
   "metadata": {},
   "source": [
    "# Lasso and Ridge Regression Implementation\n",
    "In this Notebook, we implement Lasso (L1 Regularization) and Ridge regression (L2 regularization) from scratch, and compare it with the pre-defined models from the Scikit-learn library."
   ]
  },
  {
   "cell_type": "markdown",
   "metadata": {},
   "source": [
    "### Initial functions"
   ]
  },
  {
   "cell_type": "code",
   "execution_count": 35,
   "metadata": {},
   "outputs": [],
   "source": [
    "# Importing libraries \n",
    "import numpy as np\n",
    "import pandas as pd\n",
    "\n",
    "from sklearn.metrics import r2_score\n",
    "from sklearn.model_selection import train_test_split\n",
    "from sklearn.preprocessing import StandardScaler"
   ]
  },
  {
   "cell_type": "markdown",
   "metadata": {},
   "source": [
    "Most formulations are same in both Lasso and Ridge regression. From an implementation perspective, they differ solely in the regularization term. Hence, we implement a common regression class, in which L1 or L2 regularization can be chosen as a parameter."
   ]
  },
  {
   "cell_type": "code",
   "execution_count": 18,
   "metadata": {},
   "outputs": [],
   "source": [
    "class Regression:\n",
    "    \n",
    "    def __init__(self, regularization, lr, epoch):\n",
    "        self.m = None #samples\n",
    "        self.n = None #features\n",
    "        self.w = None #weight\n",
    "        self.b = None #bias\n",
    "        self.regularization = regularization #penalty object\n",
    "        self.lr = lr #learning rate\n",
    "        self.epoch = epoch #iteration\n",
    "        \n",
    "    def __calculate_cost(self, y, y_pred):\n",
    "        return (1 / (2*self.m)) * np.sum(np.square(y_pred-y)) + self.regularization(self.w)\n",
    "    \n",
    "    def __hypothesis(self, w, X):\n",
    "        return np.dot(X, w) \n",
    "    \n",
    "    def __initialization(self, X):\n",
    "        X = np.insert(X, 0, 1, axis=1)\n",
    "        self.m, self.n = X.shape\n",
    "        self.w = np.zeros((self.n,1))\n",
    "        return X\n",
    "    \n",
    "    def __update_parameters(self, X, y, y_pred):\n",
    "        dw = (1/self.m) * np.dot(X.T, (y_pred - y)) + self.regularization.derivation(self.w)\n",
    "        self.w = self.w - self.lr * dw\n",
    "        return True\n",
    "        \n",
    "    def fit(self, X, y):\n",
    "        X = self.__initialization(X)\n",
    "        for e in range(1, self.epoch+1):\n",
    "            y_pred = self.__hypothesis(self.w, X)\n",
    "            cost = self.__calculate_cost(y, y_pred)\n",
    "            self.__update_parameters(X, y, y_pred)\n",
    "            if e % 100 == 0:\n",
    "                print(f\"The Cost in iteration {e}----->{cost} :)\")\n",
    "        return True\n",
    "\n",
    "    def predict(self, X_test):\n",
    "        X_test = np.insert(X_test, 0 , 1, axis= 1)\n",
    "        y_pred = self.__hypothesis(self.w, X_test)\n",
    "        return y_pred"
   ]
  },
  {
   "cell_type": "markdown",
   "metadata": {},
   "source": [
    "Define the regularization terms for Lasso and Ridge respectively:"
   ]
  },
  {
   "cell_type": "code",
   "execution_count": 19,
   "metadata": {},
   "outputs": [],
   "source": [
    "class LassoPenalty:\n",
    "    \n",
    "    def __init__(self, l):\n",
    "        self.l = l # lambda value\n",
    "        \n",
    "    def __call__(self,w):\n",
    "        return self.l * np.sum(np.abs(w))\n",
    "        \n",
    "    def derivation(self, w):\n",
    "        return self.l * np.sign(w)\n",
    "    \n",
    "class RidgePenalty:\n",
    "    \n",
    "    def __init__(self, l):\n",
    "        self.l = l\n",
    "        \n",
    "    def __call__(self, w):\n",
    "        return self.l * np.sum(np.square(w))\n",
    "        \n",
    "    def derivation(self, w):\n",
    "        return self.l * 2 * w"
   ]
  },
  {
   "cell_type": "code",
   "execution_count": 20,
   "metadata": {},
   "outputs": [],
   "source": [
    "class Lasso(Regression):\n",
    "    \n",
    "    def __init__(self, l, lr, epoch):\n",
    "        self.regularization = LassoPenalty(l)\n",
    "        super().__init__(self.regularization, lr, epoch )\n",
    "        \n",
    "class Ridge(Regression):\n",
    "    \n",
    "    def __init__(self, l, lr, epoch):\n",
    "        self.regularization = RidgePenalty(l)\n",
    "        super().__init__(self.regularization, lr, epoch )"
   ]
  },
  {
   "cell_type": "markdown",
   "metadata": {},
   "source": [
    "### Dataset Operations"
   ]
  },
  {
   "cell_type": "code",
   "execution_count": 21,
   "metadata": {},
   "outputs": [
    {
     "data": {
      "text/plain": [
       "Index(['Timestamp', 'Unnamed: 0', 'Station', 'Checks', 'AQI_bucket_calculated',\n",
       "       'AQI_bucket_calculated_shifted'],\n",
       "      dtype='object')"
      ]
     },
     "execution_count": 21,
     "metadata": {},
     "output_type": "execute_result"
    }
   ],
   "source": [
    "# Importing dataset     \n",
    "df = pd.read_csv( \"../ML-Project-CS361/cleaned_shifted_data.csv\" ) \n",
    "drop_cols = [0,1,2,12,14,16]\n",
    "drop_cols = df.columns[drop_cols]\n",
    "drop_cols"
   ]
  },
  {
   "cell_type": "code",
   "execution_count": 22,
   "metadata": {},
   "outputs": [],
   "source": [
    "# Drop the columns and make a new dataframe df1\n",
    "df.drop(columns=drop_cols, inplace=True)"
   ]
  },
  {
   "cell_type": "code",
   "execution_count": 23,
   "metadata": {},
   "outputs": [
    {
     "name": "stdout",
     "output_type": "stream",
     "text": [
      "(174762, 11)\n"
     ]
    }
   ],
   "source": [
    "print(df.shape)"
   ]
  },
  {
   "cell_type": "code",
   "execution_count": 28,
   "metadata": {},
   "outputs": [
    {
     "data": {
      "text/html": [
       "<div>\n",
       "<style scoped>\n",
       "    .dataframe tbody tr th:only-of-type {\n",
       "        vertical-align: middle;\n",
       "    }\n",
       "\n",
       "    .dataframe tbody tr th {\n",
       "        vertical-align: top;\n",
       "    }\n",
       "\n",
       "    .dataframe thead th {\n",
       "        text-align: right;\n",
       "    }\n",
       "</style>\n",
       "<table border=\"1\" class=\"dataframe\">\n",
       "  <thead>\n",
       "    <tr style=\"text-align: right;\">\n",
       "      <th></th>\n",
       "      <th>PM2.5 (µg/m³)</th>\n",
       "      <th>PM10 (µg/m³)</th>\n",
       "      <th>NO (µg/m³)</th>\n",
       "      <th>NO2 (µg/m³)</th>\n",
       "      <th>NOx (ppb)</th>\n",
       "      <th>NH3 (µg/m³)</th>\n",
       "      <th>SO2 (µg/m³)</th>\n",
       "      <th>CO (mg/m³)</th>\n",
       "      <th>Ozone (µg/m³)</th>\n",
       "      <th>AQI_calculated</th>\n",
       "      <th>AQI_calculated_shifted</th>\n",
       "    </tr>\n",
       "  </thead>\n",
       "  <tbody>\n",
       "    <tr>\n",
       "      <th>0</th>\n",
       "      <td>46.00</td>\n",
       "      <td>80.00</td>\n",
       "      <td>1.29</td>\n",
       "      <td>9.16</td>\n",
       "      <td>12.02</td>\n",
       "      <td>27.19</td>\n",
       "      <td>13.56</td>\n",
       "      <td>0.40</td>\n",
       "      <td>15.80</td>\n",
       "      <td>67.0</td>\n",
       "      <td>296.0</td>\n",
       "    </tr>\n",
       "    <tr>\n",
       "      <th>1</th>\n",
       "      <td>46.00</td>\n",
       "      <td>80.00</td>\n",
       "      <td>1.74</td>\n",
       "      <td>8.93</td>\n",
       "      <td>12.48</td>\n",
       "      <td>30.29</td>\n",
       "      <td>13.71</td>\n",
       "      <td>0.41</td>\n",
       "      <td>15.52</td>\n",
       "      <td>68.0</td>\n",
       "      <td>297.0</td>\n",
       "    </tr>\n",
       "    <tr>\n",
       "      <th>2</th>\n",
       "      <td>45.62</td>\n",
       "      <td>79.92</td>\n",
       "      <td>1.87</td>\n",
       "      <td>8.56</td>\n",
       "      <td>12.17</td>\n",
       "      <td>28.20</td>\n",
       "      <td>13.88</td>\n",
       "      <td>0.41</td>\n",
       "      <td>15.33</td>\n",
       "      <td>68.0</td>\n",
       "      <td>298.0</td>\n",
       "    </tr>\n",
       "    <tr>\n",
       "      <th>3</th>\n",
       "      <td>41.00</td>\n",
       "      <td>72.92</td>\n",
       "      <td>1.83</td>\n",
       "      <td>8.72</td>\n",
       "      <td>12.37</td>\n",
       "      <td>26.69</td>\n",
       "      <td>13.77</td>\n",
       "      <td>0.40</td>\n",
       "      <td>15.30</td>\n",
       "      <td>68.0</td>\n",
       "      <td>298.0</td>\n",
       "    </tr>\n",
       "    <tr>\n",
       "      <th>4</th>\n",
       "      <td>41.00</td>\n",
       "      <td>79.00</td>\n",
       "      <td>1.69</td>\n",
       "      <td>7.91</td>\n",
       "      <td>11.30</td>\n",
       "      <td>26.83</td>\n",
       "      <td>13.87</td>\n",
       "      <td>0.41</td>\n",
       "      <td>15.49</td>\n",
       "      <td>68.0</td>\n",
       "      <td>299.0</td>\n",
       "    </tr>\n",
       "  </tbody>\n",
       "</table>\n",
       "</div>"
      ],
      "text/plain": [
       "   PM2.5 (µg/m³)  PM10 (µg/m³)  NO (µg/m³)  NO2 (µg/m³)  NOx (ppb)  \\\n",
       "0          46.00         80.00        1.29         9.16      12.02   \n",
       "1          46.00         80.00        1.74         8.93      12.48   \n",
       "2          45.62         79.92        1.87         8.56      12.17   \n",
       "3          41.00         72.92        1.83         8.72      12.37   \n",
       "4          41.00         79.00        1.69         7.91      11.30   \n",
       "\n",
       "   NH3 (µg/m³)  SO2 (µg/m³)  CO (mg/m³)  Ozone (µg/m³)  AQI_calculated  \\\n",
       "0        27.19        13.56        0.40          15.80            67.0   \n",
       "1        30.29        13.71        0.41          15.52            68.0   \n",
       "2        28.20        13.88        0.41          15.33            68.0   \n",
       "3        26.69        13.77        0.40          15.30            68.0   \n",
       "4        26.83        13.87        0.41          15.49            68.0   \n",
       "\n",
       "   AQI_calculated_shifted  \n",
       "0                   296.0  \n",
       "1                   297.0  \n",
       "2                   298.0  \n",
       "3                   298.0  \n",
       "4                   299.0  "
      ]
     },
     "execution_count": 28,
     "metadata": {},
     "output_type": "execute_result"
    }
   ],
   "source": [
    "df.head()"
   ]
  },
  {
   "cell_type": "markdown",
   "metadata": {},
   "source": [
    "Since the original dataset is too large to fit into a numpy array, take a random subset of this data. "
   ]
  },
  {
   "cell_type": "code",
   "execution_count": 24,
   "metadata": {},
   "outputs": [
    {
     "name": "stdout",
     "output_type": "stream",
     "text": [
      "(32000, 11)\n"
     ]
    }
   ],
   "source": [
    "# Randomly sample 32000 rows\n",
    "df_subset = df.sample(n=32000, random_state=42)\n",
    "print(df_subset.shape)"
   ]
  },
  {
   "cell_type": "code",
   "execution_count": 34,
   "metadata": {},
   "outputs": [
    {
     "data": {
      "text/html": [
       "<div>\n",
       "<style scoped>\n",
       "    .dataframe tbody tr th:only-of-type {\n",
       "        vertical-align: middle;\n",
       "    }\n",
       "\n",
       "    .dataframe tbody tr th {\n",
       "        vertical-align: top;\n",
       "    }\n",
       "\n",
       "    .dataframe thead th {\n",
       "        text-align: right;\n",
       "    }\n",
       "</style>\n",
       "<table border=\"1\" class=\"dataframe\">\n",
       "  <thead>\n",
       "    <tr style=\"text-align: right;\">\n",
       "      <th></th>\n",
       "      <th>PM2.5 (µg/m³)</th>\n",
       "      <th>PM10 (µg/m³)</th>\n",
       "      <th>NO (µg/m³)</th>\n",
       "      <th>NO2 (µg/m³)</th>\n",
       "      <th>NOx (ppb)</th>\n",
       "      <th>NH3 (µg/m³)</th>\n",
       "      <th>SO2 (µg/m³)</th>\n",
       "      <th>CO (mg/m³)</th>\n",
       "      <th>Ozone (µg/m³)</th>\n",
       "      <th>AQI_calculated</th>\n",
       "      <th>AQI_calculated_shifted</th>\n",
       "    </tr>\n",
       "  </thead>\n",
       "  <tbody>\n",
       "    <tr>\n",
       "      <th>count</th>\n",
       "      <td>32000.000000</td>\n",
       "      <td>32000.000000</td>\n",
       "      <td>32000.000000</td>\n",
       "      <td>32000.000000</td>\n",
       "      <td>32000.000000</td>\n",
       "      <td>32000.000000</td>\n",
       "      <td>32000.000000</td>\n",
       "      <td>32000.000000</td>\n",
       "      <td>32000.000000</td>\n",
       "      <td>32000.000000</td>\n",
       "      <td>32000.000000</td>\n",
       "    </tr>\n",
       "    <tr>\n",
       "      <th>mean</th>\n",
       "      <td>60.007376</td>\n",
       "      <td>111.450673</td>\n",
       "      <td>9.785336</td>\n",
       "      <td>8.365729</td>\n",
       "      <td>17.911769</td>\n",
       "      <td>9.936954</td>\n",
       "      <td>18.552968</td>\n",
       "      <td>0.689827</td>\n",
       "      <td>24.399094</td>\n",
       "      <td>140.854719</td>\n",
       "      <td>138.908719</td>\n",
       "    </tr>\n",
       "    <tr>\n",
       "      <th>std</th>\n",
       "      <td>60.077518</td>\n",
       "      <td>111.412286</td>\n",
       "      <td>21.020019</td>\n",
       "      <td>10.607242</td>\n",
       "      <td>34.041483</td>\n",
       "      <td>7.555035</td>\n",
       "      <td>13.777714</td>\n",
       "      <td>0.623949</td>\n",
       "      <td>22.927234</td>\n",
       "      <td>104.175769</td>\n",
       "      <td>105.049152</td>\n",
       "    </tr>\n",
       "    <tr>\n",
       "      <th>min</th>\n",
       "      <td>0.100000</td>\n",
       "      <td>1.700000</td>\n",
       "      <td>0.010000</td>\n",
       "      <td>0.020000</td>\n",
       "      <td>0.230000</td>\n",
       "      <td>0.010000</td>\n",
       "      <td>0.100000</td>\n",
       "      <td>0.000000</td>\n",
       "      <td>0.020000</td>\n",
       "      <td>14.000000</td>\n",
       "      <td>11.000000</td>\n",
       "    </tr>\n",
       "    <tr>\n",
       "      <th>25%</th>\n",
       "      <td>20.000000</td>\n",
       "      <td>37.540000</td>\n",
       "      <td>1.210000</td>\n",
       "      <td>2.520000</td>\n",
       "      <td>4.610000</td>\n",
       "      <td>4.000000</td>\n",
       "      <td>10.120000</td>\n",
       "      <td>0.310000</td>\n",
       "      <td>12.750000</td>\n",
       "      <td>56.000000</td>\n",
       "      <td>55.000000</td>\n",
       "    </tr>\n",
       "    <tr>\n",
       "      <th>50%</th>\n",
       "      <td>39.500000</td>\n",
       "      <td>73.105000</td>\n",
       "      <td>3.360000</td>\n",
       "      <td>4.170000</td>\n",
       "      <td>5.470000</td>\n",
       "      <td>7.140000</td>\n",
       "      <td>14.510000</td>\n",
       "      <td>0.490000</td>\n",
       "      <td>18.100000</td>\n",
       "      <td>101.000000</td>\n",
       "      <td>100.000000</td>\n",
       "    </tr>\n",
       "    <tr>\n",
       "      <th>75%</th>\n",
       "      <td>81.000000</td>\n",
       "      <td>149.000000</td>\n",
       "      <td>5.610000</td>\n",
       "      <td>10.210000</td>\n",
       "      <td>13.400000</td>\n",
       "      <td>15.310000</td>\n",
       "      <td>22.880000</td>\n",
       "      <td>0.840000</td>\n",
       "      <td>26.760000</td>\n",
       "      <td>216.000000</td>\n",
       "      <td>204.000000</td>\n",
       "    </tr>\n",
       "    <tr>\n",
       "      <th>max</th>\n",
       "      <td>916.670000</td>\n",
       "      <td>1000.000000</td>\n",
       "      <td>299.640000</td>\n",
       "      <td>120.200000</td>\n",
       "      <td>330.290000</td>\n",
       "      <td>76.790000</td>\n",
       "      <td>194.130000</td>\n",
       "      <td>6.220000</td>\n",
       "      <td>193.570000</td>\n",
       "      <td>1109.000000</td>\n",
       "      <td>1105.000000</td>\n",
       "    </tr>\n",
       "  </tbody>\n",
       "</table>\n",
       "</div>"
      ],
      "text/plain": [
       "       PM2.5 (µg/m³)  PM10 (µg/m³)    NO (µg/m³)   NO2 (µg/m³)     NOx (ppb)  \\\n",
       "count   32000.000000  32000.000000  32000.000000  32000.000000  32000.000000   \n",
       "mean       60.007376    111.450673      9.785336      8.365729     17.911769   \n",
       "std        60.077518    111.412286     21.020019     10.607242     34.041483   \n",
       "min         0.100000      1.700000      0.010000      0.020000      0.230000   \n",
       "25%        20.000000     37.540000      1.210000      2.520000      4.610000   \n",
       "50%        39.500000     73.105000      3.360000      4.170000      5.470000   \n",
       "75%        81.000000    149.000000      5.610000     10.210000     13.400000   \n",
       "max       916.670000   1000.000000    299.640000    120.200000    330.290000   \n",
       "\n",
       "        NH3 (µg/m³)   SO2 (µg/m³)    CO (mg/m³)  Ozone (µg/m³)  \\\n",
       "count  32000.000000  32000.000000  32000.000000   32000.000000   \n",
       "mean       9.936954     18.552968      0.689827      24.399094   \n",
       "std        7.555035     13.777714      0.623949      22.927234   \n",
       "min        0.010000      0.100000      0.000000       0.020000   \n",
       "25%        4.000000     10.120000      0.310000      12.750000   \n",
       "50%        7.140000     14.510000      0.490000      18.100000   \n",
       "75%       15.310000     22.880000      0.840000      26.760000   \n",
       "max       76.790000    194.130000      6.220000     193.570000   \n",
       "\n",
       "       AQI_calculated  AQI_calculated_shifted  \n",
       "count    32000.000000            32000.000000  \n",
       "mean       140.854719              138.908719  \n",
       "std        104.175769              105.049152  \n",
       "min         14.000000               11.000000  \n",
       "25%         56.000000               55.000000  \n",
       "50%        101.000000              100.000000  \n",
       "75%        216.000000              204.000000  \n",
       "max       1109.000000             1105.000000  "
      ]
     },
     "execution_count": 34,
     "metadata": {},
     "output_type": "execute_result"
    }
   ],
   "source": [
    "df_subset.describe()"
   ]
  },
  {
   "cell_type": "code",
   "execution_count": 25,
   "metadata": {},
   "outputs": [
    {
     "name": "stdout",
     "output_type": "stream",
     "text": [
      "(32000, 10)\n",
      "(32000, 1)\n"
     ]
    }
   ],
   "source": [
    "X = df_subset.iloc[:, :-1].values #features\n",
    "Y = df_subset.iloc[:, 1].values.reshape(-1, 1) #target value\n",
    "print(X.shape)\n",
    "print(Y.shape)"
   ]
  },
  {
   "cell_type": "code",
   "execution_count": 26,
   "metadata": {},
   "outputs": [
    {
     "name": "stdout",
     "output_type": "stream",
     "text": [
      "(21333, 10)\n",
      "(10667, 10)\n",
      "(21333, 1)\n",
      "(10667, 1)\n"
     ]
    }
   ],
   "source": [
    "# Splitting dataset into train and test set \n",
    "X_train, X_test, Y_train, Y_test = train_test_split( X, Y, test_size = 1 / 3, random_state = 0 )\n",
    "print(X_train.shape)\n",
    "print(X_test.shape)\n",
    "print(Y_train.shape)\n",
    "print(Y_test.shape)"
   ]
  },
  {
   "cell_type": "code",
   "execution_count": 37,
   "metadata": {},
   "outputs": [
    {
     "data": {
      "text/plain": [
       "array([[-0.7578099 , -0.84412827, -0.39188338, ..., -0.41370701,\n",
       "         0.09591132, -0.70718809],\n",
       "       [ 1.77848328,  2.02302695,  3.85916975, ...,  4.80450109,\n",
       "        -1.03646199,  1.08175379],\n",
       "       [-0.31818575, -0.40355122, -0.20417454, ..., -0.78299558,\n",
       "         0.85038999,  1.72271158],\n",
       "       ...,\n",
       "       [ 1.82920914,  1.19688825, -0.27666568, ...,  1.17583946,\n",
       "        -0.36280472,  2.02884067],\n",
       "       [ 0.32434186,  0.28904352, -0.19649336, ...,  0.21247797,\n",
       "         0.18590704,  1.06262073],\n",
       "       [-0.96071335, -0.88815873, -0.45765348, ..., -0.76693955,\n",
       "         0.00809997, -1.02288371]])"
      ]
     },
     "execution_count": 37,
     "metadata": {},
     "output_type": "execute_result"
    }
   ],
   "source": [
    "# Standardize the features using StandardScaler\n",
    "scaler = StandardScaler()\n",
    "X_train = scaler.fit_transform(X_train)\n",
    "X_test = scaler.transform(X_test)\n",
    "X_train"
   ]
  },
  {
   "cell_type": "markdown",
   "metadata": {},
   "source": [
    "### L1 Regularization (Lasso)"
   ]
  },
  {
   "cell_type": "markdown",
   "metadata": {},
   "source": [
    "Here we can observe much lower values of the cost function, since the regularization term depends only on the absolute values of weights."
   ]
  },
  {
   "cell_type": "code",
   "execution_count": 38,
   "metadata": {},
   "outputs": [
    {
     "name": "stdout",
     "output_type": "stream",
     "text": [
      "The Cost in iteration 100----->34.60743228681634 :)\n",
      "The Cost in iteration 200----->22.504082071973468 :)\n",
      "The Cost in iteration 300----->22.134226316211297 :)\n",
      "The Cost in iteration 400----->22.124677130885832 :)\n",
      "The Cost in iteration 500----->22.12610985168155 :)\n",
      "The Cost in iteration 600----->22.125450798705277 :)\n",
      "The Cost in iteration 700----->22.125003424361722 :)\n",
      "The Cost in iteration 800----->22.12492034203957 :)\n",
      "The Cost in iteration 900----->22.124973665273448 :)\n",
      "The Cost in iteration 1000----->22.12412581971832 :)\n",
      "r2 score 0.9999985216129738\n"
     ]
    }
   ],
   "source": [
    "parameters = {\n",
    "    \"l\" : 0.1,\n",
    "    \"lr\" : 0.1,\n",
    "    \"epoch\" : 1000\n",
    "}\n",
    "model = Lasso(**parameters)\n",
    "model.fit(X_train, Y_train) \n",
    "\n",
    "Y_pred = model.predict(X_test)\n",
    "score = r2_score(Y_test, Y_pred)\n",
    "print(\"r2 score\", score)"
   ]
  },
  {
   "cell_type": "markdown",
   "metadata": {},
   "source": [
    "### L2 Regularization (Ridge)"
   ]
  },
  {
   "cell_type": "markdown",
   "metadata": {},
   "source": [
    "Here, we can observe much higher values of the cost function, as the regularization term depends on squares of weights."
   ]
  },
  {
   "cell_type": "code",
   "execution_count": 40,
   "metadata": {},
   "outputs": [
    {
     "name": "stdout",
     "output_type": "stream",
     "text": [
      "The Cost in iteration 100----->1815.8151767286631 :)\n",
      "The Cost in iteration 200----->1815.7178832926809 :)\n",
      "The Cost in iteration 300----->1815.717829673503 :)\n",
      "The Cost in iteration 400----->1815.7178296285117 :)\n",
      "The Cost in iteration 500----->1815.717829628444 :)\n",
      "The Cost in iteration 600----->1815.7178296284437 :)\n",
      "The Cost in iteration 700----->1815.7178296284437 :)\n",
      "The Cost in iteration 800----->1815.7178296284437 :)\n",
      "The Cost in iteration 900----->1815.7178296284437 :)\n",
      "The Cost in iteration 1000----->1815.7178296284437 :)\n",
      "r2 score 0.9348384078101843\n"
     ]
    }
   ],
   "source": [
    "parameters = {\n",
    "    \"l\" : 0.1,\n",
    "    \"lr\" : 0.1,\n",
    "    \"epoch\" : 1000\n",
    "}\n",
    "model = Ridge(**parameters)\n",
    "model.fit(X_train, Y_train)\n",
    " \n",
    "Y_pred = model.predict(X_test)\n",
    "score = r2_score(Y_test, Y_pred)\n",
    "print(\"r2 score\", score)"
   ]
  },
  {
   "cell_type": "markdown",
   "metadata": {},
   "source": [
    "### Library Implementation"
   ]
  },
  {
   "cell_type": "markdown",
   "metadata": {},
   "source": [
    "Using Sklearn library implementation of Lasso:"
   ]
  },
  {
   "cell_type": "code",
   "execution_count": 41,
   "metadata": {},
   "outputs": [
    {
     "name": "stdout",
     "output_type": "stream",
     "text": [
      "R2 0.978661149555438\n"
     ]
    }
   ],
   "source": [
    "from sklearn.linear_model import Lasso\n",
    "from sklearn.metrics import r2_score\n",
    "parameters = {'alpha': 0.1,\n",
    "              'tol': 0.1\n",
    "              }\n",
    "model = Lasso(**parameters)\n",
    "\n",
    "model.fit(X_train, Y_train)\n",
    "Y_pred = model.predict(X_test)\n",
    "score = r2_score(Y_test, Y_pred)\n",
    "print(\"R2 {}\".format(score))"
   ]
  },
  {
   "cell_type": "markdown",
   "metadata": {},
   "source": [
    "Using Sklearn library implementation of Ridge:"
   ]
  },
  {
   "cell_type": "code",
   "execution_count": 42,
   "metadata": {},
   "outputs": [
    {
     "name": "stdout",
     "output_type": "stream",
     "text": [
      "R2 0.9999999999295118\n"
     ]
    }
   ],
   "source": [
    "from sklearn.linear_model import Ridge\n",
    "from sklearn.metrics import r2_score\n",
    "parameters = {'alpha': 0.1\n",
    "              }\n",
    "model = Ridge(**parameters)\n",
    "\n",
    "model.fit(X_train, Y_train)\n",
    "Y_pred = model.predict(X_test)\n",
    "score = r2_score(Y_test, Y_pred)\n",
    "print(\"R2 {}\".format(score))"
   ]
  }
 ],
 "metadata": {
  "kernelspec": {
   "display_name": "base",
   "language": "python",
   "name": "python3"
  },
  "language_info": {
   "codemirror_mode": {
    "name": "ipython",
    "version": 3
   },
   "file_extension": ".py",
   "mimetype": "text/x-python",
   "name": "python",
   "nbconvert_exporter": "python",
   "pygments_lexer": "ipython3",
   "version": "3.9.7"
  }
 },
 "nbformat": 4,
 "nbformat_minor": 2
}
