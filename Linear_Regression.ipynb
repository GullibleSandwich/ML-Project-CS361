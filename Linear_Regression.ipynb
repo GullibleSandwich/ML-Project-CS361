{
 "cells": [
  {
   "cell_type": "markdown",
   "id": "43e3d597-fc7f-40cf-9b88-ab1347e31bfa",
   "metadata": {},
   "source": [
    "### Necessary Imports"
   ]
  },
  {
   "cell_type": "code",
   "execution_count": 60,
   "id": "c29a65c5-b963-4c19-980d-adf5aebaf5c6",
   "metadata": {},
   "outputs": [],
   "source": [
    "import numpy as np \n",
    "import pandas as pd \n",
    "from sklearn.model_selection import train_test_split \n",
    "from error_define import *\n",
    "from dataset import *\n",
    "from sklearn.metrics import mean_squared_error"
   ]
  },
  {
   "cell_type": "markdown",
   "id": "021c99af-e939-49e1-899a-bbe65830d90e",
   "metadata": {},
   "source": [
    "### Reading Data from CSV File"
   ]
  },
  {
   "cell_type": "code",
   "execution_count": 61,
   "id": "66bce1e3-e09f-4342-88ec-01d8583d37b0",
   "metadata": {},
   "outputs": [
    {
     "data": {
      "text/html": [
       "<div>\n",
       "<style scoped>\n",
       "    .dataframe tbody tr th:only-of-type {\n",
       "        vertical-align: middle;\n",
       "    }\n",
       "\n",
       "    .dataframe tbody tr th {\n",
       "        vertical-align: top;\n",
       "    }\n",
       "\n",
       "    .dataframe thead th {\n",
       "        text-align: right;\n",
       "    }\n",
       "</style>\n",
       "<table border=\"1\" class=\"dataframe\">\n",
       "  <thead>\n",
       "    <tr style=\"text-align: right;\">\n",
       "      <th></th>\n",
       "      <th>PM2.5 (µg/m³)</th>\n",
       "      <th>PM10 (µg/m³)</th>\n",
       "      <th>NO (µg/m³)</th>\n",
       "      <th>NO2 (µg/m³)</th>\n",
       "      <th>NOx (ppb)</th>\n",
       "      <th>NH3 (µg/m³)</th>\n",
       "      <th>SO2 (µg/m³)</th>\n",
       "      <th>CO (mg/m³)</th>\n",
       "      <th>Ozone (µg/m³)</th>\n",
       "      <th>AQI_calculated</th>\n",
       "    </tr>\n",
       "  </thead>\n",
       "  <tbody>\n",
       "    <tr>\n",
       "      <th>0</th>\n",
       "      <td>46.00</td>\n",
       "      <td>80.00</td>\n",
       "      <td>1.29</td>\n",
       "      <td>9.16</td>\n",
       "      <td>12.02</td>\n",
       "      <td>27.19</td>\n",
       "      <td>13.56</td>\n",
       "      <td>0.40</td>\n",
       "      <td>15.80</td>\n",
       "      <td>67.0</td>\n",
       "    </tr>\n",
       "    <tr>\n",
       "      <th>1</th>\n",
       "      <td>46.00</td>\n",
       "      <td>80.00</td>\n",
       "      <td>1.74</td>\n",
       "      <td>8.93</td>\n",
       "      <td>12.48</td>\n",
       "      <td>30.29</td>\n",
       "      <td>13.71</td>\n",
       "      <td>0.41</td>\n",
       "      <td>15.52</td>\n",
       "      <td>68.0</td>\n",
       "    </tr>\n",
       "    <tr>\n",
       "      <th>2</th>\n",
       "      <td>45.62</td>\n",
       "      <td>79.92</td>\n",
       "      <td>1.87</td>\n",
       "      <td>8.56</td>\n",
       "      <td>12.17</td>\n",
       "      <td>28.20</td>\n",
       "      <td>13.88</td>\n",
       "      <td>0.41</td>\n",
       "      <td>15.33</td>\n",
       "      <td>68.0</td>\n",
       "    </tr>\n",
       "    <tr>\n",
       "      <th>3</th>\n",
       "      <td>41.00</td>\n",
       "      <td>72.92</td>\n",
       "      <td>1.83</td>\n",
       "      <td>8.72</td>\n",
       "      <td>12.37</td>\n",
       "      <td>26.69</td>\n",
       "      <td>13.77</td>\n",
       "      <td>0.40</td>\n",
       "      <td>15.30</td>\n",
       "      <td>68.0</td>\n",
       "    </tr>\n",
       "    <tr>\n",
       "      <th>4</th>\n",
       "      <td>41.00</td>\n",
       "      <td>79.00</td>\n",
       "      <td>1.69</td>\n",
       "      <td>7.91</td>\n",
       "      <td>11.30</td>\n",
       "      <td>26.83</td>\n",
       "      <td>13.87</td>\n",
       "      <td>0.41</td>\n",
       "      <td>15.49</td>\n",
       "      <td>68.0</td>\n",
       "    </tr>\n",
       "  </tbody>\n",
       "</table>\n",
       "</div>"
      ],
      "text/plain": [
       "   PM2.5 (µg/m³)  PM10 (µg/m³)  NO (µg/m³)  NO2 (µg/m³)  NOx (ppb)  \\\n",
       "0          46.00         80.00        1.29         9.16      12.02   \n",
       "1          46.00         80.00        1.74         8.93      12.48   \n",
       "2          45.62         79.92        1.87         8.56      12.17   \n",
       "3          41.00         72.92        1.83         8.72      12.37   \n",
       "4          41.00         79.00        1.69         7.91      11.30   \n",
       "\n",
       "   NH3 (µg/m³)  SO2 (µg/m³)  CO (mg/m³)  Ozone (µg/m³)  AQI_calculated  \n",
       "0        27.19        13.56        0.40          15.80            67.0  \n",
       "1        30.29        13.71        0.41          15.52            68.0  \n",
       "2        28.20        13.88        0.41          15.33            68.0  \n",
       "3        26.69        13.77        0.40          15.30            68.0  \n",
       "4        26.83        13.87        0.41          15.49            68.0  "
      ]
     },
     "execution_count": 61,
     "metadata": {},
     "output_type": "execute_result"
    }
   ],
   "source": [
    "X,Y = load_dataset()\n",
    "X.head()"
   ]
  },
  {
   "cell_type": "markdown",
   "id": "51e481c4-6d62-47d6-bf62-2da2ba74e5b9",
   "metadata": {},
   "source": [
    "#### Splitting the Dataset into training and testing data"
   ]
  },
  {
   "cell_type": "code",
   "execution_count": 62,
   "id": "d751a025-5e75-48bf-9ea1-f85d2a4d7cca",
   "metadata": {},
   "outputs": [],
   "source": [
    "#Splitting the dataset into \n",
    "X_train, X_test, Y_train, Y_test = train_test_split( X, Y, test_size =0.3,  random_state = 0 )        "
   ]
  },
  {
   "cell_type": "markdown",
   "id": "0986b638",
   "metadata": {},
   "source": [
    "# Implementing Linear regression class for prediction"
   ]
  },
  {
   "cell_type": "code",
   "execution_count": 63,
   "id": "e96e23ac",
   "metadata": {},
   "outputs": [],
   "source": [
    "class LinearRegression_Im:\n",
    "    def __init__(self):\n",
    "        self.coefficients = None\n",
    "    \n",
    "    def fit(self, X, y):\n",
    "        \"\"\"\n",
    "        Fit the linear regression model to the training data.\n",
    "        \n",
    "        Parameters:\n",
    "        X : numpy array, shape (n_samples, n_features)\n",
    "            Training data.\n",
    "        y : numpy array, shape (n_samples,)\n",
    "            Target values.\n",
    "        \"\"\"\n",
    "        # Add bias term to the features\n",
    "        X_b = np.c_[np.ones((X.shape[0], 1)), X]\n",
    "        \n",
    "        # Calculate coefficients using normal equation\n",
    "        self.coefficients = np.linalg.inv(X_b.T.dot(X_b)).dot(X_b.T).dot(y)\n",
    "    \n",
    "    def predict(self, X):\n",
    "        \"\"\"\n",
    "        Predict target values for input data.\n",
    "        \n",
    "        Parameters:\n",
    "        X : numpy array, shape (n_samples, n_features)\n",
    "            Input data.\n",
    "        \n",
    "        Returns:\n",
    "        predictions : numpy array, shape (n_samples,)\n",
    "            Predicted target values.\n",
    "        \"\"\"\n",
    "        \n",
    "        # Add bias term to the features\n",
    "        X_b = np.c_[np.ones((X.shape[0], 1)), X]\n",
    "        \n",
    "        # Make predictions\n",
    "        predictions = X_b.dot(self.coefficients)\n",
    "        return predictions"
   ]
  },
  {
   "cell_type": "code",
   "execution_count": 64,
   "id": "667f7cec",
   "metadata": {},
   "outputs": [
    {
     "data": {
      "text/plain": [
       "6661.498418894131"
      ]
     },
     "execution_count": 64,
     "metadata": {},
     "output_type": "execute_result"
    }
   ],
   "source": [
    "model = LinearRegression_Im()\n",
    "\n",
    "model.fit( X_train, Y_train)\n",
    "\n",
    "mean_squared_error(model.predict(X_test),Y_test)"
   ]
  },
  {
   "cell_type": "code",
   "execution_count": 65,
   "id": "2dd0f9c8-d134-43c7-a20a-02c6d7a6e097",
   "metadata": {},
   "outputs": [
    {
     "data": {
      "text/plain": [
       "4242.004048555026"
      ]
     },
     "execution_count": 65,
     "metadata": {},
     "output_type": "execute_result"
    }
   ],
   "source": [
    "downside_square_error(np.array(model.predict(X_test)),np.array(Y_test))"
   ]
  },
  {
   "cell_type": "markdown",
   "id": "c088c256",
   "metadata": {},
   "source": [
    "### Using the sklearn LinearRegression Model to predict the AQI"
   ]
  },
  {
   "cell_type": "code",
   "execution_count": 66,
   "id": "b3da1207",
   "metadata": {},
   "outputs": [
    {
     "data": {
      "text/plain": [
       "6661.498418894131"
      ]
     },
     "execution_count": 66,
     "metadata": {},
     "output_type": "execute_result"
    }
   ],
   "source": [
    "from sklearn.linear_model import LinearRegression              # Importing LinearRegression from sklearn\n",
    "lr=LinearRegression().fit(X_train, Y_train)\n",
    "\n",
    "\n",
    "mean_squared_error(model.predict(X_test),Y_test)              # Fitting our training data to train our model"
   ]
  },
  {
   "cell_type": "code",
   "execution_count": 67,
   "id": "6904c02c",
   "metadata": {},
   "outputs": [
    {
     "data": {
      "text/plain": [
       "4242.004048554982"
      ]
     },
     "execution_count": 67,
     "metadata": {},
     "output_type": "execute_result"
    }
   ],
   "source": [
    "downside_square_error(np.array(lr.predict(X_test)),np.array(Y_test))"
   ]
  },
  {
   "cell_type": "markdown",
   "id": "01731500",
   "metadata": {},
   "source": [
    "### Checking Results on feature engineered dataset"
   ]
  },
  {
   "cell_type": "code",
   "execution_count": 68,
   "id": "f1ff731d",
   "metadata": {},
   "outputs": [],
   "source": [
    "X,Y = load_dataset_features()\n",
    "#Splitting the dataset into \n",
    "X_train, X_test, Y_train, Y_test = train_test_split( X, Y, test_size =0.3,  random_state = 0 )        "
   ]
  },
  {
   "cell_type": "code",
   "execution_count": 69,
   "id": "12928f1a",
   "metadata": {},
   "outputs": [
    {
     "data": {
      "text/plain": [
       "235548.54087966934"
      ]
     },
     "execution_count": 69,
     "metadata": {},
     "output_type": "execute_result"
    }
   ],
   "source": [
    "model = LinearRegression_Im()\n",
    "\n",
    "model.fit( X_train, Y_train)\n",
    "\n",
    "mean_squared_error(model.predict(X_test),Y_test)"
   ]
  },
  {
   "cell_type": "code",
   "execution_count": 70,
   "id": "5459fe6b",
   "metadata": {},
   "outputs": [
    {
     "data": {
      "text/plain": [
       "152566.2431259419"
      ]
     },
     "execution_count": 70,
     "metadata": {},
     "output_type": "execute_result"
    }
   ],
   "source": [
    "downside_square_error(np.array(model.predict(X_test)),np.array(Y_test))"
   ]
  },
  {
   "cell_type": "code",
   "execution_count": 71,
   "id": "ef6dd3e2",
   "metadata": {},
   "outputs": [
    {
     "data": {
      "text/plain": [
       "6530.996999493072"
      ]
     },
     "execution_count": 71,
     "metadata": {},
     "output_type": "execute_result"
    }
   ],
   "source": [
    "model = LinearRegression()\n",
    "\n",
    "model.fit( X_train, Y_train)\n",
    "\n",
    "mean_squared_error(model.predict(X_test),Y_test)"
   ]
  },
  {
   "cell_type": "code",
   "execution_count": 72,
   "id": "aa0015ad",
   "metadata": {},
   "outputs": [
    {
     "data": {
      "text/plain": [
       "4173.474006890959"
      ]
     },
     "execution_count": 72,
     "metadata": {},
     "output_type": "execute_result"
    }
   ],
   "source": [
    "downside_square_error(np.array(model.predict(X_test)),np.array(Y_test))"
   ]
  },
  {
   "cell_type": "code",
   "execution_count": null,
   "id": "49bdc282-f07f-46b9-80fb-237f8527ccb0",
   "metadata": {},
   "outputs": [],
   "source": []
  },
  {
   "cell_type": "code",
   "execution_count": null,
   "id": "a4d5697d-bd96-452f-bad1-a70ab710811a",
   "metadata": {},
   "outputs": [],
   "source": []
  }
 ],
 "metadata": {
  "kernelspec": {
   "display_name": "Python 3 (ipykernel)",
   "language": "python",
   "name": "python3"
  },
  "language_info": {
   "codemirror_mode": {
    "name": "ipython",
    "version": 3
   },
   "file_extension": ".py",
   "mimetype": "text/x-python",
   "name": "python",
   "nbconvert_exporter": "python",
   "pygments_lexer": "ipython3",
   "version": "3.9.13"
  }
 },
 "nbformat": 4,
 "nbformat_minor": 5
}
