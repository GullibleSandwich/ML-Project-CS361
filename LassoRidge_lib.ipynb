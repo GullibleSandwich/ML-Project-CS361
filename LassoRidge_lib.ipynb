{
 "cells": [
  {
   "cell_type": "markdown",
   "metadata": {},
   "source": [
    "# Lasso and Ridge Regression Library Implementation\n",
    "In this Notebook, we implement Lasso (L1 Regularization) and Ridge regression (L2 regularization) using the pre-defined models from the Scikit-learn library."
   ]
  },
  {
   "cell_type": "markdown",
   "metadata": {},
   "source": [
    "## Dataset Operations"
   ]
  },
  {
   "cell_type": "code",
   "execution_count": 1,
   "metadata": {},
   "outputs": [],
   "source": [
    "# Importing libraries \n",
    "import numpy as np\n",
    "import pandas as pd\n",
    "\n",
    "from sklearn.metrics import r2_score, mean_squared_error\n",
    "from sklearn.model_selection import train_test_split\n",
    "from sklearn.preprocessing import StandardScaler"
   ]
  },
  {
   "cell_type": "code",
   "execution_count": 2,
   "metadata": {},
   "outputs": [],
   "source": [
    "from sklearn.preprocessing import OneHotEncoder\n",
    "df = pd.read_csv(\"cleaned_shifted_data.csv\")\n",
    "    \n",
    "oe = OneHotEncoder(sparse=False)\n",
    "encoded = oe.fit_transform(pd.DataFrame(df['Station']))"
   ]
  },
  {
   "cell_type": "code",
   "execution_count": 3,
   "metadata": {},
   "outputs": [
    {
     "data": {
      "text/plain": [
       "array(['x0_IITG ', 'x0_LGBI Airport ', 'x0_Pan Bazaar ',\n",
       "       'x0_Railway Colony '], dtype=object)"
      ]
     },
     "execution_count": 3,
     "metadata": {},
     "output_type": "execute_result"
    }
   ],
   "source": [
    "oe.get_feature_names()"
   ]
  },
  {
   "cell_type": "code",
   "execution_count": 4,
   "metadata": {},
   "outputs": [],
   "source": [
    "\n",
    "one_hot_df = pd.DataFrame(encoded, columns=oe.get_feature_names())\n",
    "df = pd.concat([df, one_hot_df], axis=1)\n",
    "\n",
    "df['Timestamp'] = pd.to_datetime(df['Timestamp'])\n",
    "df['year'] = df['Timestamp'].dt.year\n",
    "df['month'] = df['Timestamp'].dt.month\n",
    "df['dayofweek'] = df['Timestamp'].dt.day_of_week\n",
    "\n",
    "drop_cols = [0,1,2,12,14,16]\n",
    "drop_cols = df.columns[drop_cols]\n",
    "df.drop(drop_cols,axis=1,inplace=True)\n",
    "\n",
    "X = df.drop('AQI_calculated_shifted',axis = 1)\n",
    "y = df['AQI_calculated_shifted']"
   ]
  },
  {
   "cell_type": "code",
   "execution_count": 5,
   "metadata": {},
   "outputs": [
    {
     "name": "stdout",
     "output_type": "stream",
     "text": [
      "(174762, 17) (174762,)\n"
     ]
    }
   ],
   "source": [
    "print(X.shape, y.shape)"
   ]
  },
  {
   "cell_type": "code",
   "execution_count": 6,
   "metadata": {},
   "outputs": [
    {
     "name": "stdout",
     "output_type": "stream",
     "text": [
      "(116508, 17)\n",
      "(58254, 17)\n",
      "(116508,)\n",
      "(58254,)\n"
     ]
    }
   ],
   "source": [
    "# Splitting dataset into train and test set \n",
    "X_train, X_test, Y_train, Y_test = train_test_split( X, y, test_size = 1 / 3, random_state = 0 )\n",
    "print(X_train.shape)\n",
    "print(X_test.shape)\n",
    "print(Y_train.shape)\n",
    "print(Y_test.shape)"
   ]
  },
  {
   "cell_type": "code",
   "execution_count": 7,
   "metadata": {},
   "outputs": [
    {
     "data": {
      "text/plain": [
       "array([[ 3.67831173,  2.2237575 , -0.20599341, ...,  1.19263893,\n",
       "        -1.54346737, -0.01566533],\n",
       "       [-0.29548835, -0.3588719 , -0.26667847, ..., -0.95436545,\n",
       "        -0.96118867, -0.01566533],\n",
       "       [ 1.56565852,  0.86541954, -0.35201684, ..., -0.23869732,\n",
       "        -1.25232802,  0.49471947],\n",
       "       ...,\n",
       "       [-0.79850102, -0.71758036, -0.40464216, ...,  0.47697081,\n",
       "         0.49450809,  0.49471947],\n",
       "       [-0.84880229, -0.76101143, -0.15526449, ...,  1.19263893,\n",
       "         0.78564744,  1.00510426],\n",
       "       [-0.69370672, -0.52419593, -0.20220059, ..., -0.95436545,\n",
       "         0.49450809, -0.01566533]])"
      ]
     },
     "execution_count": 7,
     "metadata": {},
     "output_type": "execute_result"
    }
   ],
   "source": [
    "# Standardize the features using StandardScaler\n",
    "scaler = StandardScaler()\n",
    "X_train = scaler.fit_transform(X_train)\n",
    "X_test = scaler.transform(X_test)\n",
    "X_train"
   ]
  },
  {
   "cell_type": "markdown",
   "metadata": {},
   "source": [
    "## Lasso"
   ]
  },
  {
   "cell_type": "code",
   "execution_count": 8,
   "metadata": {},
   "outputs": [
    {
     "name": "stdout",
     "output_type": "stream",
     "text": [
      "R2 0.4139777006204265\n",
      "MSE 6554.421924381027\n"
     ]
    }
   ],
   "source": [
    "from sklearn.linear_model import Lasso\n",
    "from sklearn.metrics import r2_score\n",
    "parameters = {'alpha': 0.5,\n",
    "              'tol': 0.1\n",
    "              }\n",
    "model = Lasso(**parameters)\n",
    "\n",
    "model.fit(X_train, Y_train)\n",
    "Y_pred = model.predict(X_test)\n",
    "score = r2_score(Y_test, Y_pred)\n",
    "print(\"R2 {}\".format(score))\n",
    "mse = mean_squared_error(Y_test, Y_pred)\n",
    "print(\"MSE\", mse)"
   ]
  },
  {
   "cell_type": "markdown",
   "metadata": {},
   "source": [
    "## Ridge"
   ]
  },
  {
   "cell_type": "code",
   "execution_count": 9,
   "metadata": {},
   "outputs": [
    {
     "name": "stdout",
     "output_type": "stream",
     "text": [
      "R2 0.4162744542784833\n",
      "MSE 6528.733665508954\n"
     ]
    }
   ],
   "source": [
    "from sklearn.linear_model import Ridge\n",
    "from sklearn.metrics import r2_score\n",
    "parameters = {'alpha': 0.5\n",
    "              }\n",
    "model = Ridge(**parameters)\n",
    "\n",
    "model.fit(X_train, Y_train)\n",
    "Y_pred = model.predict(X_test)\n",
    "score = r2_score(Y_test, Y_pred)\n",
    "print(\"R2 {}\".format(score))\n",
    "mse = mean_squared_error(Y_test, Y_pred)\n",
    "print(\"MSE\", mse)"
   ]
  }
 ],
 "metadata": {
  "kernelspec": {
   "display_name": "base",
   "language": "python",
   "name": "python3"
  },
  "language_info": {
   "codemirror_mode": {
    "name": "ipython",
    "version": 3
   },
   "file_extension": ".py",
   "mimetype": "text/x-python",
   "name": "python",
   "nbconvert_exporter": "python",
   "pygments_lexer": "ipython3",
   "version": "3.9.7"
  }
 },
 "nbformat": 4,
 "nbformat_minor": 2
}
