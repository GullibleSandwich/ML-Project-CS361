{
 "cells": [
  {
   "cell_type": "markdown",
   "metadata": {},
   "source": [
    "# Lasso and Ridge Regression Implementation\n",
    "In this Notebook, we implement Lasso (L1 Regularization) and Ridge regression (L2 regularization) from scratch, and compare it with the pre-defined models from the Scikit-learn library."
   ]
  },
  {
   "cell_type": "markdown",
   "metadata": {},
   "source": [
    "### Initial functions"
   ]
  },
  {
   "cell_type": "code",
   "execution_count": 295,
   "metadata": {},
   "outputs": [],
   "source": [
    "# Importing libraries \n",
    "import numpy as np\n",
    "import pandas as pd\n",
    "\n",
    "from sklearn.metrics import r2_score, mean_squared_error\n",
    "from sklearn.model_selection import train_test_split\n",
    "from sklearn.preprocessing import StandardScaler"
   ]
  },
  {
   "cell_type": "markdown",
   "metadata": {},
   "source": [
    "Most formulations are same in both Lasso and Ridge regression. From an implementation perspective, they differ solely in the regularization term. Hence, we implement a common regression class, in which L1 or L2 regularization can be chosen as a parameter."
   ]
  },
  {
   "cell_type": "code",
   "execution_count": 296,
   "metadata": {},
   "outputs": [],
   "source": [
    "class Regression:\n",
    "    \n",
    "    def __init__(self, regularization, lr, epoch):\n",
    "        self.m = None #samples\n",
    "        self.n = None #features\n",
    "        self.w = None #weight\n",
    "        self.b = None #bias\n",
    "        self.regularization = regularization #penalty object\n",
    "        self.lr = lr #learning rate\n",
    "        self.epoch = epoch #iteration\n",
    "        \n",
    "    def __calculate_cost(self, y, y_pred):\n",
    "        return (1 / (2*self.m)) * np.sum(np.square(y_pred-y)) + self.regularization(self.w)\n",
    "    \n",
    "    def __hypothesis(self, w, X):\n",
    "        return np.dot(X, w) \n",
    "    \n",
    "    def __initialization(self, X):\n",
    "        X = np.insert(X, 0, 1, axis=1)\n",
    "        self.m, self.n = X.shape\n",
    "        self.w = np.zeros((self.n,1))\n",
    "        return X\n",
    "    \n",
    "    def __update_parameters(self, X, y, y_pred):\n",
    "        dw = (1/self.m) * np.dot(X.T, (y_pred - y)) + self.regularization.derivation(self.w)\n",
    "        self.w = self.w - self.lr * dw\n",
    "        return True\n",
    "        \n",
    "    def fit(self, X, y):\n",
    "        X = self.__initialization(X)\n",
    "        for e in range(1, self.epoch+1):\n",
    "            y_pred = self.__hypothesis(self.w, X)\n",
    "            cost = self.__calculate_cost(y, y_pred)\n",
    "            self.__update_parameters(X, y, y_pred)\n",
    "            if e % 100 == 0:\n",
    "                print(f\"The Cost in iteration {e}----->{cost} :)\")\n",
    "        return True\n",
    "\n",
    "    def predict(self, X_test):\n",
    "        X_test = np.insert(X_test, 0 , 1, axis= 1)\n",
    "        y_pred = self.__hypothesis(self.w, X_test)\n",
    "        return y_pred"
   ]
  },
  {
   "cell_type": "markdown",
   "metadata": {},
   "source": [
    "Define the regularization terms for Lasso and Ridge respectively:"
   ]
  },
  {
   "cell_type": "code",
   "execution_count": 297,
   "metadata": {},
   "outputs": [],
   "source": [
    "class LassoPenalty:\n",
    "    \n",
    "    def __init__(self, l):\n",
    "        self.l = l # lambda value\n",
    "        \n",
    "    def __call__(self,w):\n",
    "        return self.l * np.sum(np.abs(w))\n",
    "        \n",
    "    def derivation(self, w):\n",
    "        return self.l * np.sign(w)\n",
    "    \n",
    "class RidgePenalty:\n",
    "    \n",
    "    def __init__(self, l):\n",
    "        self.l = l\n",
    "        \n",
    "    def __call__(self, w):\n",
    "        return self.l * np.sum(np.square(w))\n",
    "        \n",
    "    def derivation(self, w):\n",
    "        return self.l * 2 * w"
   ]
  },
  {
   "cell_type": "code",
   "execution_count": 298,
   "metadata": {},
   "outputs": [],
   "source": [
    "class Lasso(Regression):\n",
    "    \n",
    "    def __init__(self, l, lr, epoch):\n",
    "        self.regularization = LassoPenalty(l)\n",
    "        super().__init__(self.regularization, lr, epoch )\n",
    "        \n",
    "class Ridge(Regression):\n",
    "    \n",
    "    def __init__(self, l, lr, epoch):\n",
    "        self.regularization = RidgePenalty(l)\n",
    "        super().__init__(self.regularization, lr, epoch )"
   ]
  },
  {
   "cell_type": "markdown",
   "metadata": {},
   "source": [
    "### Dataset Operations 1"
   ]
  },
  {
   "cell_type": "code",
   "execution_count": 299,
   "metadata": {},
   "outputs": [
    {
     "data": {
      "text/plain": [
       "Index(['Timestamp', 'Unnamed: 0', 'Station', 'Checks', 'AQI_bucket_calculated',\n",
       "       'AQI_bucket_calculated_shifted'],\n",
       "      dtype='object')"
      ]
     },
     "execution_count": 299,
     "metadata": {},
     "output_type": "execute_result"
    }
   ],
   "source": [
    "# Importing dataset     \n",
    "df = pd.read_csv( \"../ML-Project-CS361/cleaned_shifted_data.csv\" ) \n",
    "drop_cols = [0,1,2,12,14,16]\n",
    "drop_cols = df.columns[drop_cols]\n",
    "drop_cols # Dropping unecessary columns"
   ]
  },
  {
   "cell_type": "code",
   "execution_count": 300,
   "metadata": {},
   "outputs": [],
   "source": [
    "# Drop the columns and make the changes in-place\n",
    "df.drop(columns=drop_cols, inplace=True)"
   ]
  },
  {
   "cell_type": "code",
   "execution_count": 301,
   "metadata": {},
   "outputs": [
    {
     "name": "stdout",
     "output_type": "stream",
     "text": [
      "(174762, 11)\n"
     ]
    }
   ],
   "source": [
    "print(df.shape)  # The dataset has a size of 1,74,762 records, 10 features, 1 target variable"
   ]
  },
  {
   "cell_type": "code",
   "execution_count": 302,
   "metadata": {},
   "outputs": [
    {
     "data": {
      "text/html": [
       "<div>\n",
       "<style scoped>\n",
       "    .dataframe tbody tr th:only-of-type {\n",
       "        vertical-align: middle;\n",
       "    }\n",
       "\n",
       "    .dataframe tbody tr th {\n",
       "        vertical-align: top;\n",
       "    }\n",
       "\n",
       "    .dataframe thead th {\n",
       "        text-align: right;\n",
       "    }\n",
       "</style>\n",
       "<table border=\"1\" class=\"dataframe\">\n",
       "  <thead>\n",
       "    <tr style=\"text-align: right;\">\n",
       "      <th></th>\n",
       "      <th>PM2.5 (µg/m³)</th>\n",
       "      <th>PM10 (µg/m³)</th>\n",
       "      <th>NO (µg/m³)</th>\n",
       "      <th>NO2 (µg/m³)</th>\n",
       "      <th>NOx (ppb)</th>\n",
       "      <th>NH3 (µg/m³)</th>\n",
       "      <th>SO2 (µg/m³)</th>\n",
       "      <th>CO (mg/m³)</th>\n",
       "      <th>Ozone (µg/m³)</th>\n",
       "      <th>AQI_calculated</th>\n",
       "      <th>AQI_calculated_shifted</th>\n",
       "    </tr>\n",
       "  </thead>\n",
       "  <tbody>\n",
       "    <tr>\n",
       "      <th>0</th>\n",
       "      <td>46.00</td>\n",
       "      <td>80.00</td>\n",
       "      <td>1.29</td>\n",
       "      <td>9.16</td>\n",
       "      <td>12.02</td>\n",
       "      <td>27.19</td>\n",
       "      <td>13.56</td>\n",
       "      <td>0.40</td>\n",
       "      <td>15.80</td>\n",
       "      <td>67.0</td>\n",
       "      <td>296.0</td>\n",
       "    </tr>\n",
       "    <tr>\n",
       "      <th>1</th>\n",
       "      <td>46.00</td>\n",
       "      <td>80.00</td>\n",
       "      <td>1.74</td>\n",
       "      <td>8.93</td>\n",
       "      <td>12.48</td>\n",
       "      <td>30.29</td>\n",
       "      <td>13.71</td>\n",
       "      <td>0.41</td>\n",
       "      <td>15.52</td>\n",
       "      <td>68.0</td>\n",
       "      <td>297.0</td>\n",
       "    </tr>\n",
       "    <tr>\n",
       "      <th>2</th>\n",
       "      <td>45.62</td>\n",
       "      <td>79.92</td>\n",
       "      <td>1.87</td>\n",
       "      <td>8.56</td>\n",
       "      <td>12.17</td>\n",
       "      <td>28.20</td>\n",
       "      <td>13.88</td>\n",
       "      <td>0.41</td>\n",
       "      <td>15.33</td>\n",
       "      <td>68.0</td>\n",
       "      <td>298.0</td>\n",
       "    </tr>\n",
       "    <tr>\n",
       "      <th>3</th>\n",
       "      <td>41.00</td>\n",
       "      <td>72.92</td>\n",
       "      <td>1.83</td>\n",
       "      <td>8.72</td>\n",
       "      <td>12.37</td>\n",
       "      <td>26.69</td>\n",
       "      <td>13.77</td>\n",
       "      <td>0.40</td>\n",
       "      <td>15.30</td>\n",
       "      <td>68.0</td>\n",
       "      <td>298.0</td>\n",
       "    </tr>\n",
       "    <tr>\n",
       "      <th>4</th>\n",
       "      <td>41.00</td>\n",
       "      <td>79.00</td>\n",
       "      <td>1.69</td>\n",
       "      <td>7.91</td>\n",
       "      <td>11.30</td>\n",
       "      <td>26.83</td>\n",
       "      <td>13.87</td>\n",
       "      <td>0.41</td>\n",
       "      <td>15.49</td>\n",
       "      <td>68.0</td>\n",
       "      <td>299.0</td>\n",
       "    </tr>\n",
       "  </tbody>\n",
       "</table>\n",
       "</div>"
      ],
      "text/plain": [
       "   PM2.5 (µg/m³)  PM10 (µg/m³)  NO (µg/m³)  NO2 (µg/m³)  NOx (ppb)  \\\n",
       "0          46.00         80.00        1.29         9.16      12.02   \n",
       "1          46.00         80.00        1.74         8.93      12.48   \n",
       "2          45.62         79.92        1.87         8.56      12.17   \n",
       "3          41.00         72.92        1.83         8.72      12.37   \n",
       "4          41.00         79.00        1.69         7.91      11.30   \n",
       "\n",
       "   NH3 (µg/m³)  SO2 (µg/m³)  CO (mg/m³)  Ozone (µg/m³)  AQI_calculated  \\\n",
       "0        27.19        13.56        0.40          15.80            67.0   \n",
       "1        30.29        13.71        0.41          15.52            68.0   \n",
       "2        28.20        13.88        0.41          15.33            68.0   \n",
       "3        26.69        13.77        0.40          15.30            68.0   \n",
       "4        26.83        13.87        0.41          15.49            68.0   \n",
       "\n",
       "   AQI_calculated_shifted  \n",
       "0                   296.0  \n",
       "1                   297.0  \n",
       "2                   298.0  \n",
       "3                   298.0  \n",
       "4                   299.0  "
      ]
     },
     "execution_count": 302,
     "metadata": {},
     "output_type": "execute_result"
    }
   ],
   "source": [
    "df.head() "
   ]
  },
  {
   "cell_type": "markdown",
   "metadata": {},
   "source": [
    "Since the original dataset is too large to fit into a numpy array, take a random subset of this data. "
   ]
  },
  {
   "cell_type": "code",
   "execution_count": 303,
   "metadata": {},
   "outputs": [
    {
     "name": "stdout",
     "output_type": "stream",
     "text": [
      "(174762, 11)\n"
     ]
    }
   ],
   "source": [
    "# Randomly sample 32000 rows\n",
    "df_subset = df\n",
    "print(df_subset.shape)"
   ]
  },
  {
   "cell_type": "code",
   "execution_count": 304,
   "metadata": {},
   "outputs": [
    {
     "data": {
      "text/html": [
       "<div>\n",
       "<style scoped>\n",
       "    .dataframe tbody tr th:only-of-type {\n",
       "        vertical-align: middle;\n",
       "    }\n",
       "\n",
       "    .dataframe tbody tr th {\n",
       "        vertical-align: top;\n",
       "    }\n",
       "\n",
       "    .dataframe thead th {\n",
       "        text-align: right;\n",
       "    }\n",
       "</style>\n",
       "<table border=\"1\" class=\"dataframe\">\n",
       "  <thead>\n",
       "    <tr style=\"text-align: right;\">\n",
       "      <th></th>\n",
       "      <th>PM2.5 (µg/m³)</th>\n",
       "      <th>PM10 (µg/m³)</th>\n",
       "      <th>NO (µg/m³)</th>\n",
       "      <th>NO2 (µg/m³)</th>\n",
       "      <th>NOx (ppb)</th>\n",
       "      <th>NH3 (µg/m³)</th>\n",
       "      <th>SO2 (µg/m³)</th>\n",
       "      <th>CO (mg/m³)</th>\n",
       "      <th>Ozone (µg/m³)</th>\n",
       "      <th>AQI_calculated</th>\n",
       "      <th>AQI_calculated_shifted</th>\n",
       "    </tr>\n",
       "  </thead>\n",
       "  <tbody>\n",
       "    <tr>\n",
       "      <th>count</th>\n",
       "      <td>174762.000000</td>\n",
       "      <td>174762.000000</td>\n",
       "      <td>174762.000000</td>\n",
       "      <td>174762.000000</td>\n",
       "      <td>174762.000000</td>\n",
       "      <td>174762.000000</td>\n",
       "      <td>174762.000000</td>\n",
       "      <td>174762.000000</td>\n",
       "      <td>174762.000000</td>\n",
       "      <td>174762.000000</td>\n",
       "      <td>174762.000000</td>\n",
       "    </tr>\n",
       "    <tr>\n",
       "      <th>mean</th>\n",
       "      <td>59.679503</td>\n",
       "      <td>111.238568</td>\n",
       "      <td>9.660644</td>\n",
       "      <td>8.324557</td>\n",
       "      <td>17.762988</td>\n",
       "      <td>9.984327</td>\n",
       "      <td>18.461032</td>\n",
       "      <td>0.689923</td>\n",
       "      <td>24.271172</td>\n",
       "      <td>140.573117</td>\n",
       "      <td>139.053112</td>\n",
       "    </tr>\n",
       "    <tr>\n",
       "      <th>std</th>\n",
       "      <td>59.876848</td>\n",
       "      <td>111.774626</td>\n",
       "      <td>20.843351</td>\n",
       "      <td>10.595687</td>\n",
       "      <td>33.777433</td>\n",
       "      <td>7.575767</td>\n",
       "      <td>13.741348</td>\n",
       "      <td>0.625532</td>\n",
       "      <td>22.874962</td>\n",
       "      <td>104.720841</td>\n",
       "      <td>105.081092</td>\n",
       "    </tr>\n",
       "    <tr>\n",
       "      <th>min</th>\n",
       "      <td>0.100000</td>\n",
       "      <td>1.590000</td>\n",
       "      <td>0.010000</td>\n",
       "      <td>0.020000</td>\n",
       "      <td>0.000000</td>\n",
       "      <td>0.010000</td>\n",
       "      <td>0.100000</td>\n",
       "      <td>0.000000</td>\n",
       "      <td>0.010000</td>\n",
       "      <td>14.000000</td>\n",
       "      <td>11.000000</td>\n",
       "    </tr>\n",
       "    <tr>\n",
       "      <th>25%</th>\n",
       "      <td>20.000000</td>\n",
       "      <td>37.670000</td>\n",
       "      <td>1.210000</td>\n",
       "      <td>2.520000</td>\n",
       "      <td>4.590000</td>\n",
       "      <td>4.000000</td>\n",
       "      <td>10.080000</td>\n",
       "      <td>0.310000</td>\n",
       "      <td>12.670000</td>\n",
       "      <td>56.000000</td>\n",
       "      <td>56.000000</td>\n",
       "    </tr>\n",
       "    <tr>\n",
       "      <th>50%</th>\n",
       "      <td>39.000000</td>\n",
       "      <td>73.000000</td>\n",
       "      <td>3.360000</td>\n",
       "      <td>4.170000</td>\n",
       "      <td>5.450000</td>\n",
       "      <td>7.200000</td>\n",
       "      <td>14.460000</td>\n",
       "      <td>0.490000</td>\n",
       "      <td>18.080000</td>\n",
       "      <td>101.000000</td>\n",
       "      <td>100.000000</td>\n",
       "    </tr>\n",
       "    <tr>\n",
       "      <th>75%</th>\n",
       "      <td>81.000000</td>\n",
       "      <td>148.000000</td>\n",
       "      <td>5.597500</td>\n",
       "      <td>10.080000</td>\n",
       "      <td>13.280000</td>\n",
       "      <td>15.420000</td>\n",
       "      <td>22.770000</td>\n",
       "      <td>0.840000</td>\n",
       "      <td>26.710000</td>\n",
       "      <td>214.000000</td>\n",
       "      <td>204.000000</td>\n",
       "    </tr>\n",
       "    <tr>\n",
       "      <th>max</th>\n",
       "      <td>923.080000</td>\n",
       "      <td>1000.000000</td>\n",
       "      <td>472.550000</td>\n",
       "      <td>122.000000</td>\n",
       "      <td>488.620000</td>\n",
       "      <td>113.300000</td>\n",
       "      <td>195.010000</td>\n",
       "      <td>9.710000</td>\n",
       "      <td>193.570000</td>\n",
       "      <td>1109.000000</td>\n",
       "      <td>1109.000000</td>\n",
       "    </tr>\n",
       "  </tbody>\n",
       "</table>\n",
       "</div>"
      ],
      "text/plain": [
       "       PM2.5 (µg/m³)   PM10 (µg/m³)     NO (µg/m³)    NO2 (µg/m³)  \\\n",
       "count  174762.000000  174762.000000  174762.000000  174762.000000   \n",
       "mean       59.679503     111.238568       9.660644       8.324557   \n",
       "std        59.876848     111.774626      20.843351      10.595687   \n",
       "min         0.100000       1.590000       0.010000       0.020000   \n",
       "25%        20.000000      37.670000       1.210000       2.520000   \n",
       "50%        39.000000      73.000000       3.360000       4.170000   \n",
       "75%        81.000000     148.000000       5.597500      10.080000   \n",
       "max       923.080000    1000.000000     472.550000     122.000000   \n",
       "\n",
       "           NOx (ppb)    NH3 (µg/m³)    SO2 (µg/m³)     CO (mg/m³)  \\\n",
       "count  174762.000000  174762.000000  174762.000000  174762.000000   \n",
       "mean       17.762988       9.984327      18.461032       0.689923   \n",
       "std        33.777433       7.575767      13.741348       0.625532   \n",
       "min         0.000000       0.010000       0.100000       0.000000   \n",
       "25%         4.590000       4.000000      10.080000       0.310000   \n",
       "50%         5.450000       7.200000      14.460000       0.490000   \n",
       "75%        13.280000      15.420000      22.770000       0.840000   \n",
       "max       488.620000     113.300000     195.010000       9.710000   \n",
       "\n",
       "       Ozone (µg/m³)  AQI_calculated  AQI_calculated_shifted  \n",
       "count  174762.000000   174762.000000           174762.000000  \n",
       "mean       24.271172      140.573117              139.053112  \n",
       "std        22.874962      104.720841              105.081092  \n",
       "min         0.010000       14.000000               11.000000  \n",
       "25%        12.670000       56.000000               56.000000  \n",
       "50%        18.080000      101.000000              100.000000  \n",
       "75%        26.710000      214.000000              204.000000  \n",
       "max       193.570000     1109.000000             1109.000000  "
      ]
     },
     "execution_count": 304,
     "metadata": {},
     "output_type": "execute_result"
    }
   ],
   "source": [
    "df_subset.describe()"
   ]
  },
  {
   "cell_type": "code",
   "execution_count": 305,
   "metadata": {},
   "outputs": [
    {
     "name": "stdout",
     "output_type": "stream",
     "text": [
      "(174762, 10)\n",
      "(174762,)\n"
     ]
    }
   ],
   "source": [
    "# Separating the features and labels/target variables\n",
    "X = df_subset.drop('AQI_calculated_shifted',axis = 1)  # feature set\n",
    "Y = df_subset['AQI_calculated_shifted'] # target variable\n",
    "print(X.shape)\n",
    "print(Y.shape)"
   ]
  },
  {
   "cell_type": "code",
   "execution_count": 306,
   "metadata": {},
   "outputs": [
    {
     "data": {
      "text/html": [
       "<div>\n",
       "<style scoped>\n",
       "    .dataframe tbody tr th:only-of-type {\n",
       "        vertical-align: middle;\n",
       "    }\n",
       "\n",
       "    .dataframe tbody tr th {\n",
       "        vertical-align: top;\n",
       "    }\n",
       "\n",
       "    .dataframe thead th {\n",
       "        text-align: right;\n",
       "    }\n",
       "</style>\n",
       "<table border=\"1\" class=\"dataframe\">\n",
       "  <thead>\n",
       "    <tr style=\"text-align: right;\">\n",
       "      <th></th>\n",
       "      <th>PM2.5 (µg/m³)</th>\n",
       "      <th>PM10 (µg/m³)</th>\n",
       "      <th>NO (µg/m³)</th>\n",
       "      <th>NO2 (µg/m³)</th>\n",
       "      <th>NOx (ppb)</th>\n",
       "      <th>NH3 (µg/m³)</th>\n",
       "      <th>SO2 (µg/m³)</th>\n",
       "      <th>CO (mg/m³)</th>\n",
       "      <th>Ozone (µg/m³)</th>\n",
       "      <th>AQI_calculated</th>\n",
       "    </tr>\n",
       "  </thead>\n",
       "  <tbody>\n",
       "    <tr>\n",
       "      <th>0</th>\n",
       "      <td>46.00</td>\n",
       "      <td>80.00</td>\n",
       "      <td>1.29</td>\n",
       "      <td>9.16</td>\n",
       "      <td>12.02</td>\n",
       "      <td>27.19</td>\n",
       "      <td>13.56</td>\n",
       "      <td>0.40</td>\n",
       "      <td>15.80</td>\n",
       "      <td>67.0</td>\n",
       "    </tr>\n",
       "    <tr>\n",
       "      <th>1</th>\n",
       "      <td>46.00</td>\n",
       "      <td>80.00</td>\n",
       "      <td>1.74</td>\n",
       "      <td>8.93</td>\n",
       "      <td>12.48</td>\n",
       "      <td>30.29</td>\n",
       "      <td>13.71</td>\n",
       "      <td>0.41</td>\n",
       "      <td>15.52</td>\n",
       "      <td>68.0</td>\n",
       "    </tr>\n",
       "    <tr>\n",
       "      <th>2</th>\n",
       "      <td>45.62</td>\n",
       "      <td>79.92</td>\n",
       "      <td>1.87</td>\n",
       "      <td>8.56</td>\n",
       "      <td>12.17</td>\n",
       "      <td>28.20</td>\n",
       "      <td>13.88</td>\n",
       "      <td>0.41</td>\n",
       "      <td>15.33</td>\n",
       "      <td>68.0</td>\n",
       "    </tr>\n",
       "    <tr>\n",
       "      <th>3</th>\n",
       "      <td>41.00</td>\n",
       "      <td>72.92</td>\n",
       "      <td>1.83</td>\n",
       "      <td>8.72</td>\n",
       "      <td>12.37</td>\n",
       "      <td>26.69</td>\n",
       "      <td>13.77</td>\n",
       "      <td>0.40</td>\n",
       "      <td>15.30</td>\n",
       "      <td>68.0</td>\n",
       "    </tr>\n",
       "    <tr>\n",
       "      <th>4</th>\n",
       "      <td>41.00</td>\n",
       "      <td>79.00</td>\n",
       "      <td>1.69</td>\n",
       "      <td>7.91</td>\n",
       "      <td>11.30</td>\n",
       "      <td>26.83</td>\n",
       "      <td>13.87</td>\n",
       "      <td>0.41</td>\n",
       "      <td>15.49</td>\n",
       "      <td>68.0</td>\n",
       "    </tr>\n",
       "    <tr>\n",
       "      <th>...</th>\n",
       "      <td>...</td>\n",
       "      <td>...</td>\n",
       "      <td>...</td>\n",
       "      <td>...</td>\n",
       "      <td>...</td>\n",
       "      <td>...</td>\n",
       "      <td>...</td>\n",
       "      <td>...</td>\n",
       "      <td>...</td>\n",
       "      <td>...</td>\n",
       "    </tr>\n",
       "    <tr>\n",
       "      <th>174757</th>\n",
       "      <td>72.00</td>\n",
       "      <td>116.00</td>\n",
       "      <td>6.40</td>\n",
       "      <td>3.30</td>\n",
       "      <td>6.90</td>\n",
       "      <td>4.90</td>\n",
       "      <td>44.20</td>\n",
       "      <td>0.63</td>\n",
       "      <td>68.00</td>\n",
       "      <td>252.0</td>\n",
       "    </tr>\n",
       "    <tr>\n",
       "      <th>174758</th>\n",
       "      <td>71.00</td>\n",
       "      <td>114.00</td>\n",
       "      <td>6.40</td>\n",
       "      <td>3.40</td>\n",
       "      <td>7.00</td>\n",
       "      <td>4.90</td>\n",
       "      <td>41.30</td>\n",
       "      <td>0.68</td>\n",
       "      <td>69.10</td>\n",
       "      <td>249.0</td>\n",
       "    </tr>\n",
       "    <tr>\n",
       "      <th>174759</th>\n",
       "      <td>71.00</td>\n",
       "      <td>114.00</td>\n",
       "      <td>6.30</td>\n",
       "      <td>3.50</td>\n",
       "      <td>7.00</td>\n",
       "      <td>4.90</td>\n",
       "      <td>42.20</td>\n",
       "      <td>0.73</td>\n",
       "      <td>66.90</td>\n",
       "      <td>247.0</td>\n",
       "    </tr>\n",
       "    <tr>\n",
       "      <th>174760</th>\n",
       "      <td>73.00</td>\n",
       "      <td>114.00</td>\n",
       "      <td>6.30</td>\n",
       "      <td>5.00</td>\n",
       "      <td>7.80</td>\n",
       "      <td>5.50</td>\n",
       "      <td>0.40</td>\n",
       "      <td>0.76</td>\n",
       "      <td>44.60</td>\n",
       "      <td>238.0</td>\n",
       "    </tr>\n",
       "    <tr>\n",
       "      <th>174761</th>\n",
       "      <td>70.00</td>\n",
       "      <td>230.00</td>\n",
       "      <td>6.30</td>\n",
       "      <td>5.70</td>\n",
       "      <td>8.20</td>\n",
       "      <td>5.70</td>\n",
       "      <td>0.20</td>\n",
       "      <td>0.79</td>\n",
       "      <td>36.50</td>\n",
       "      <td>227.0</td>\n",
       "    </tr>\n",
       "  </tbody>\n",
       "</table>\n",
       "<p>174762 rows × 10 columns</p>\n",
       "</div>"
      ],
      "text/plain": [
       "        PM2.5 (µg/m³)  PM10 (µg/m³)  NO (µg/m³)  NO2 (µg/m³)  NOx (ppb)  \\\n",
       "0               46.00         80.00        1.29         9.16      12.02   \n",
       "1               46.00         80.00        1.74         8.93      12.48   \n",
       "2               45.62         79.92        1.87         8.56      12.17   \n",
       "3               41.00         72.92        1.83         8.72      12.37   \n",
       "4               41.00         79.00        1.69         7.91      11.30   \n",
       "...               ...           ...         ...          ...        ...   \n",
       "174757          72.00        116.00        6.40         3.30       6.90   \n",
       "174758          71.00        114.00        6.40         3.40       7.00   \n",
       "174759          71.00        114.00        6.30         3.50       7.00   \n",
       "174760          73.00        114.00        6.30         5.00       7.80   \n",
       "174761          70.00        230.00        6.30         5.70       8.20   \n",
       "\n",
       "        NH3 (µg/m³)  SO2 (µg/m³)  CO (mg/m³)  Ozone (µg/m³)  AQI_calculated  \n",
       "0             27.19        13.56        0.40          15.80            67.0  \n",
       "1             30.29        13.71        0.41          15.52            68.0  \n",
       "2             28.20        13.88        0.41          15.33            68.0  \n",
       "3             26.69        13.77        0.40          15.30            68.0  \n",
       "4             26.83        13.87        0.41          15.49            68.0  \n",
       "...             ...          ...         ...            ...             ...  \n",
       "174757         4.90        44.20        0.63          68.00           252.0  \n",
       "174758         4.90        41.30        0.68          69.10           249.0  \n",
       "174759         4.90        42.20        0.73          66.90           247.0  \n",
       "174760         5.50         0.40        0.76          44.60           238.0  \n",
       "174761         5.70         0.20        0.79          36.50           227.0  \n",
       "\n",
       "[174762 rows x 10 columns]"
      ]
     },
     "execution_count": 306,
     "metadata": {},
     "output_type": "execute_result"
    }
   ],
   "source": [
    "X # it is a pandas dataframe"
   ]
  },
  {
   "cell_type": "code",
   "execution_count": 307,
   "metadata": {},
   "outputs": [
    {
     "data": {
      "text/plain": [
       "0         296.0\n",
       "1         297.0\n",
       "2         298.0\n",
       "3         298.0\n",
       "4         299.0\n",
       "          ...  \n",
       "174757    219.0\n",
       "174758    219.0\n",
       "174759    219.0\n",
       "174760    220.0\n",
       "174761    220.0\n",
       "Name: AQI_calculated_shifted, Length: 174762, dtype: float64"
      ]
     },
     "execution_count": 307,
     "metadata": {},
     "output_type": "execute_result"
    }
   ],
   "source": [
    "Y # it is a pandas series"
   ]
  },
  {
   "cell_type": "code",
   "execution_count": 308,
   "metadata": {},
   "outputs": [
    {
     "data": {
      "text/plain": [
       "array([[296.],\n",
       "       [297.],\n",
       "       [298.],\n",
       "       ...,\n",
       "       [219.],\n",
       "       [220.],\n",
       "       [220.]])"
      ]
     },
     "execution_count": 308,
     "metadata": {},
     "output_type": "execute_result"
    }
   ],
   "source": [
    "Y = Y.values.reshape(-1, 1) # convert to a numpy array\n",
    "Y "
   ]
  },
  {
   "cell_type": "code",
   "execution_count": 309,
   "metadata": {},
   "outputs": [
    {
     "name": "stdout",
     "output_type": "stream",
     "text": [
      "(116508, 10)\n",
      "(58254, 10)\n",
      "(116508, 1)\n",
      "(58254, 1)\n"
     ]
    }
   ],
   "source": [
    "# Splitting dataset into train and test set \n",
    "X_train, X_test, Y_train, Y_test = train_test_split( X, Y, test_size = 1 / 3, random_state = 0 )\n",
    "print(X_train.shape)\n",
    "print(X_test.shape)\n",
    "print(Y_train.shape)\n",
    "print(Y_test.shape)"
   ]
  },
  {
   "cell_type": "code",
   "execution_count": 310,
   "metadata": {},
   "outputs": [
    {
     "data": {
      "text/plain": [
       "array([[356.],\n",
       "       [260.],\n",
       "       [120.],\n",
       "       ...,\n",
       "       [ 73.],\n",
       "       [116.],\n",
       "       [ 35.]])"
      ]
     },
     "execution_count": 310,
     "metadata": {},
     "output_type": "execute_result"
    }
   ],
   "source": [
    "Y_train"
   ]
  },
  {
   "cell_type": "code",
   "execution_count": 311,
   "metadata": {},
   "outputs": [
    {
     "data": {
      "text/plain": [
       "array([[ 3.67831173,  2.2237575 , -0.20599341, ...,  3.40249554,\n",
       "         0.08160396,  1.92882892],\n",
       "       [-0.29548835, -0.3588719 , -0.26667847, ..., -0.25689331,\n",
       "        -0.23740736, -0.68081168],\n",
       "       [ 1.56565852,  0.86541954, -0.35201684, ...,  0.5616542 ,\n",
       "        -0.98845864,  1.75739267],\n",
       "       ...,\n",
       "       [-0.79850102, -0.71758036, -0.40464216, ..., -0.51369252,\n",
       "        -0.34563555, -0.89034486],\n",
       "       [-0.84880229, -0.76101143, -0.15526449, ...,  2.64814784,\n",
       "        -0.94438184, -0.24269683],\n",
       "       [-0.69370672, -0.52419593, -0.20220059, ..., -0.2247934 ,\n",
       "        -0.31901491, -0.97606298]])"
      ]
     },
     "execution_count": 311,
     "metadata": {},
     "output_type": "execute_result"
    }
   ],
   "source": [
    "# Standardize the features using StandardScaler\n",
    "scaler = StandardScaler()\n",
    "X_train = scaler.fit_transform(X_train)\n",
    "X_test = scaler.transform(X_test)\n",
    "X_train"
   ]
  },
  {
   "cell_type": "markdown",
   "metadata": {},
   "source": [
    "### L1 Regularization (Lasso)"
   ]
  },
  {
   "cell_type": "markdown",
   "metadata": {},
   "source": [
    "Here we can observe much lower values of the cost function, since the regularization term depends only on the absolute values of weights."
   ]
  },
  {
   "cell_type": "code",
   "execution_count": 312,
   "metadata": {},
   "outputs": [
    {
     "name": "stdout",
     "output_type": "stream",
     "text": [
      "The Cost in iteration 100----->3433.2781034400123 :)\n",
      "The Cost in iteration 200----->3430.533352464965 :)\n",
      "The Cost in iteration 300----->3430.1665350097896 :)\n",
      "The Cost in iteration 400----->3430.099860545677 :)\n",
      "The Cost in iteration 500----->3430.082388297635 :)\n",
      "The Cost in iteration 600----->3430.084002260344 :)\n",
      "The Cost in iteration 700----->3430.090547304069 :)\n",
      "The Cost in iteration 800----->3430.0882620101647 :)\n",
      "The Cost in iteration 900----->3430.0870978592006 :)\n",
      "The Cost in iteration 1000----->3430.086501801884 :)\n",
      "The Cost in iteration 1100----->3430.086194262193 :)\n",
      "The Cost in iteration 1200----->3430.086034912643 :)\n",
      "The Cost in iteration 1300----->3430.0859521606776 :)\n",
      "The Cost in iteration 1400----->3430.0859091356765 :)\n",
      "The Cost in iteration 1500----->3430.0858867518937 :)\n",
      "The Cost in iteration 1600----->3430.0858751029305 :)\n",
      "The Cost in iteration 1700----->3430.085869039553 :)\n",
      "The Cost in iteration 1800----->3430.085865883236 :)\n",
      "The Cost in iteration 1900----->3430.0858642401276 :)\n",
      "The Cost in iteration 2000----->3430.08586338474 :)\n",
      "r2 score 0.403242845961032\n",
      "MSE 6674.486923288185\n"
     ]
    }
   ],
   "source": [
    "parameters = {\n",
    "    \"l\" : 0.5,\n",
    "    \"lr\" : 0.1,\n",
    "    \"epoch\" : 2000\n",
    "}\n",
    "model = Lasso(**parameters)\n",
    "model.fit(X_train, Y_train) \n",
    "\n",
    "Y_pred = model.predict(X_test)\n",
    "score = r2_score(Y_test, Y_pred)  # calculate the R-squared error\n",
    "print(\"r2 score\", score)  \n",
    "mse = mean_squared_error(Y_test, Y_pred)  # calculate the mean-squared error\n",
    "print(\"MSE\", mse)"
   ]
  },
  {
   "cell_type": "markdown",
   "metadata": {},
   "source": [
    "### L2 Regularization (Ridge)"
   ]
  },
  {
   "cell_type": "markdown",
   "metadata": {},
   "source": [
    "Here, we can observe much higher values of the cost function, as the regularization term depends on squares of weights."
   ]
  },
  {
   "cell_type": "code",
   "execution_count": 313,
   "metadata": {},
   "outputs": [
    {
     "name": "stdout",
     "output_type": "stream",
     "text": [
      "The Cost in iteration 100----->3323.094378975041 :)\n",
      "The Cost in iteration 200----->3317.2272787105635 :)\n",
      "The Cost in iteration 300----->3316.129089267472 :)\n",
      "The Cost in iteration 400----->3315.852972390586 :)\n",
      "The Cost in iteration 500----->3315.7813989338783 :)\n",
      "The Cost in iteration 600----->3315.7627760481837 :)\n",
      "The Cost in iteration 700----->3315.7579282347747 :)\n",
      "The Cost in iteration 800----->3315.756666203188 :)\n",
      "The Cost in iteration 900----->3315.7563376560256 :)\n",
      "The Cost in iteration 1000----->3315.75625212462 :)\n",
      "The Cost in iteration 1100----->3315.7562298580383 :)\n",
      "The Cost in iteration 1200----->3315.7562240613292 :)\n",
      "The Cost in iteration 1300----->3315.756222552259 :)\n",
      "The Cost in iteration 1400----->3315.7562221593994 :)\n",
      "The Cost in iteration 1500----->3315.7562220571253 :)\n",
      "The Cost in iteration 1600----->3315.7562220305 :)\n",
      "The Cost in iteration 1700----->3315.7562220235686 :)\n",
      "The Cost in iteration 1800----->3315.756222021764 :)\n",
      "The Cost in iteration 1900----->3315.756222021294 :)\n",
      "The Cost in iteration 2000----->3315.7562220211717 :)\n",
      "r2 score 0.40442445984853226\n",
      "MSE 6661.27105082295\n"
     ]
    }
   ],
   "source": [
    "parameters = {\n",
    "    \"l\" : 0.001,\n",
    "    \"lr\" : 0.1,\n",
    "    \"epoch\" : 2000\n",
    "}\n",
    "model = Ridge(**parameters)\n",
    "model.fit(X_train, Y_train)\n",
    " \n",
    "Y_pred = model.predict(X_test)\n",
    "score = r2_score(Y_test, Y_pred)\n",
    "print(\"r2 score\", score)\n",
    "mse = mean_squared_error(Y_test, Y_pred)\n",
    "print(\"MSE\", mse)"
   ]
  },
  {
   "cell_type": "markdown",
   "metadata": {},
   "source": [
    "### Dataset Operations 2"
   ]
  },
  {
   "cell_type": "code",
   "execution_count": 314,
   "metadata": {},
   "outputs": [],
   "source": [
    "from sklearn.preprocessing import OneHotEncoder\n",
    "df = pd.read_csv(\"cleaned_shifted_data.csv\")\n",
    "    \n",
    "oe = OneHotEncoder(sparse=False)\n",
    "encoded = oe.fit_transform(pd.DataFrame(df['Station']))"
   ]
  },
  {
   "cell_type": "code",
   "execution_count": 315,
   "metadata": {},
   "outputs": [
    {
     "data": {
      "text/plain": [
       "array(['x0_IITG ', 'x0_LGBI Airport ', 'x0_Pan Bazaar ',\n",
       "       'x0_Railway Colony '], dtype=object)"
      ]
     },
     "execution_count": 315,
     "metadata": {},
     "output_type": "execute_result"
    }
   ],
   "source": [
    "oe.get_feature_names()"
   ]
  },
  {
   "cell_type": "code",
   "execution_count": 316,
   "metadata": {},
   "outputs": [],
   "source": [
    "\n",
    "one_hot_df = pd.DataFrame(encoded, columns=oe.get_feature_names())\n",
    "df = pd.concat([df, one_hot_df], axis=1)\n",
    "\n",
    "df['Timestamp'] = pd.to_datetime(df['Timestamp'])\n",
    "df['year'] = df['Timestamp'].dt.year\n",
    "df['month'] = df['Timestamp'].dt.month\n",
    "df['dayofweek'] = df['Timestamp'].dt.day_of_week\n",
    "\n",
    "drop_cols = [0,1,2,12,14,16]\n",
    "drop_cols = df.columns[drop_cols]\n",
    "df.drop(drop_cols,axis=1,inplace=True)"
   ]
  },
  {
   "cell_type": "code",
   "execution_count": 317,
   "metadata": {},
   "outputs": [
    {
     "data": {
      "text/plain": [
       "(174762, 18)"
      ]
     },
     "execution_count": 317,
     "metadata": {},
     "output_type": "execute_result"
    }
   ],
   "source": [
    "df.shape"
   ]
  },
  {
   "cell_type": "code",
   "execution_count": 318,
   "metadata": {},
   "outputs": [
    {
     "data": {
      "text/plain": [
       "(174762, 18)"
      ]
     },
     "execution_count": 318,
     "metadata": {},
     "output_type": "execute_result"
    }
   ],
   "source": [
    "# # Take a subset\n",
    "# df = df.iloc[:90000]\n",
    "# df.shape"
   ]
  },
  {
   "cell_type": "code",
   "execution_count": 319,
   "metadata": {},
   "outputs": [
    {
     "name": "stdout",
     "output_type": "stream",
     "text": [
      "(174762, 17) (174762, 1)\n"
     ]
    }
   ],
   "source": [
    "X = df.drop('AQI_calculated_shifted',axis = 1)\n",
    "y = df['AQI_calculated_shifted'].values.reshape(-1, 1)\n",
    "print(X.shape, y.shape)"
   ]
  },
  {
   "cell_type": "code",
   "execution_count": 320,
   "metadata": {},
   "outputs": [
    {
     "name": "stdout",
     "output_type": "stream",
     "text": [
      "(116508, 17)\n",
      "(58254, 17)\n",
      "(116508, 1)\n",
      "(58254, 1)\n"
     ]
    }
   ],
   "source": [
    "# Splitting dataset into train and test set \n",
    "X_train, X_test, Y_train, Y_test = train_test_split( X, y, test_size = 1 / 3, random_state = 0 )\n",
    "print(X_train.shape)\n",
    "print(X_test.shape)\n",
    "print(Y_train.shape)\n",
    "print(Y_test.shape)"
   ]
  },
  {
   "cell_type": "code",
   "execution_count": 321,
   "metadata": {},
   "outputs": [
    {
     "data": {
      "text/plain": [
       "array([[ 3.67831173,  2.2237575 , -0.20599341, ...,  1.19263893,\n",
       "        -1.54346737, -0.01566533],\n",
       "       [-0.29548835, -0.3588719 , -0.26667847, ..., -0.95436545,\n",
       "        -0.96118867, -0.01566533],\n",
       "       [ 1.56565852,  0.86541954, -0.35201684, ..., -0.23869732,\n",
       "        -1.25232802,  0.49471947],\n",
       "       ...,\n",
       "       [-0.79850102, -0.71758036, -0.40464216, ...,  0.47697081,\n",
       "         0.49450809,  0.49471947],\n",
       "       [-0.84880229, -0.76101143, -0.15526449, ...,  1.19263893,\n",
       "         0.78564744,  1.00510426],\n",
       "       [-0.69370672, -0.52419593, -0.20220059, ..., -0.95436545,\n",
       "         0.49450809, -0.01566533]])"
      ]
     },
     "execution_count": 321,
     "metadata": {},
     "output_type": "execute_result"
    }
   ],
   "source": [
    "# Standardize the features using StandardScaler\n",
    "scaler = StandardScaler()\n",
    "X_train = scaler.fit_transform(X_train)\n",
    "X_test = scaler.transform(X_test)\n",
    "X_train"
   ]
  },
  {
   "cell_type": "markdown",
   "metadata": {},
   "source": [
    "### Lasso "
   ]
  },
  {
   "cell_type": "code",
   "execution_count": 322,
   "metadata": {},
   "outputs": [
    {
     "name": "stdout",
     "output_type": "stream",
     "text": [
      "The Cost in iteration 100----->3383.708721773161 :)\n",
      "The Cost in iteration 200----->3380.691121394675 :)\n",
      "The Cost in iteration 300----->3380.190894239744 :)\n",
      "The Cost in iteration 400----->3380.0603291408447 :)\n",
      "The Cost in iteration 500----->3380.012740963777 :)\n",
      "The Cost in iteration 600----->3379.9885238702327 :)\n",
      "The Cost in iteration 700----->3379.9830758064377 :)\n",
      "The Cost in iteration 800----->3379.995480945607 :)\n",
      "The Cost in iteration 900----->3379.988985296985 :)\n",
      "The Cost in iteration 1000----->3379.9820166306195 :)\n",
      "The Cost in iteration 1100----->3379.981877485505 :)\n",
      "The Cost in iteration 1200----->3379.982803598071 :)\n",
      "The Cost in iteration 1300----->3379.9890503636566 :)\n",
      "The Cost in iteration 1400----->3379.9818922029904 :)\n",
      "The Cost in iteration 1500----->3379.983397531838 :)\n",
      "The Cost in iteration 1600----->3379.9880361885484 :)\n",
      "The Cost in iteration 1700----->3379.983261964285 :)\n",
      "The Cost in iteration 1800----->3379.986708093791 :)\n",
      "The Cost in iteration 1900----->3379.991282424162 :)\n",
      "The Cost in iteration 2000----->3379.9873876611587 :)\n",
      "r2 score 0.41449040130047443\n",
      "MSE 6548.687575054203\n"
     ]
    }
   ],
   "source": [
    "parameters = {\n",
    "    \"l\" : 0.5,\n",
    "    \"lr\" : 0.1,\n",
    "    \"epoch\" : 2000\n",
    "}\n",
    "model = Lasso(**parameters)\n",
    "model.fit(X_train, Y_train) \n",
    "\n",
    "Y_pred = model.predict(X_test)\n",
    "score = r2_score(Y_test, Y_pred)  # calculate the R-squared error\n",
    "print(\"r2 score\", score)  \n",
    "mse = mean_squared_error(Y_test, Y_pred)  # calculate the mean-squared error\n",
    "print(\"MSE\", mse)"
   ]
  },
  {
   "cell_type": "markdown",
   "metadata": {},
   "source": [
    "### Ridge"
   ]
  },
  {
   "cell_type": "code",
   "execution_count": 323,
   "metadata": {},
   "outputs": [
    {
     "name": "stdout",
     "output_type": "stream",
     "text": [
      "The Cost in iteration 100----->3255.3212191696716 :)\n",
      "The Cost in iteration 200----->3247.776226824679 :)\n",
      "The Cost in iteration 300----->3246.0273822807035 :)\n",
      "The Cost in iteration 400----->3245.476114267615 :)\n",
      "The Cost in iteration 500----->3245.296760879461 :)\n",
      "The Cost in iteration 600----->3245.238210040228 :)\n",
      "The Cost in iteration 700----->3245.2190887851884 :)\n",
      "The Cost in iteration 800----->3245.2128440071497 :)\n",
      "The Cost in iteration 900----->3245.210804526896 :)\n",
      "The Cost in iteration 1000----->3245.2101384533166 :)\n",
      "The Cost in iteration 1100----->3245.209920920425 :)\n",
      "The Cost in iteration 1200----->3245.209849876383 :)\n",
      "The Cost in iteration 1300----->3245.2098266741173 :)\n",
      "The Cost in iteration 1400----->3245.209819096492 :)\n",
      "The Cost in iteration 1500----->3245.2098166217165 :)\n",
      "The Cost in iteration 1600----->3245.2098158134804 :)\n",
      "The Cost in iteration 1700----->3245.209815549518 :)\n",
      "The Cost in iteration 1800----->3245.209815463311 :)\n",
      "The Cost in iteration 1900----->3245.2098154351565 :)\n",
      "The Cost in iteration 2000----->3245.2098154259616 :)\n",
      "r2 score 0.4161964145219673\n",
      "MSE 6529.606508558823\n"
     ]
    }
   ],
   "source": [
    "parameters = {\n",
    "    \"l\" : 0.001,\n",
    "    \"lr\" : 0.1,\n",
    "    \"epoch\" : 2000\n",
    "}\n",
    "model = Ridge(**parameters)\n",
    "model.fit(X_train, Y_train)\n",
    " \n",
    "Y_pred = model.predict(X_test)\n",
    "score = r2_score(Y_test, Y_pred)\n",
    "print(\"r2 score\", score)\n",
    "mse = mean_squared_error(Y_test, Y_pred)\n",
    "print(\"MSE\", mse)"
   ]
  }
 ],
 "metadata": {
  "kernelspec": {
   "display_name": "base",
   "language": "python",
   "name": "python3"
  },
  "language_info": {
   "codemirror_mode": {
    "name": "ipython",
    "version": 3
   },
   "file_extension": ".py",
   "mimetype": "text/x-python",
   "name": "python",
   "nbconvert_exporter": "python",
   "pygments_lexer": "ipython3",
   "version": "3.9.7"
  }
 },
 "nbformat": 4,
 "nbformat_minor": 2
}
